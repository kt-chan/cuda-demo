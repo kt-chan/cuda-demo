{
  "nbformat": 4,
  "nbformat_minor": 0,
  "metadata": {
    "colab": {
      "provenance": [],
      "gpuType": "T4",
      "authorship_tag": "ABX9TyPSpxHJyddn42UoVR/1opoA",
      "include_colab_link": true
    },
    "kernelspec": {
      "name": "python3",
      "display_name": "Python 3"
    },
    "language_info": {
      "name": "python"
    },
    "accelerator": "GPU"
  },
  "cells": [
    {
      "cell_type": "markdown",
      "metadata": {
        "id": "view-in-github",
        "colab_type": "text"
      },
      "source": [
        "<a href=\"https://colab.research.google.com/github/kt-chan/cuda-demo/blob/main/cuda.ipynb\" target=\"_parent\"><img src=\"https://colab.research.google.com/assets/colab-badge.svg\" alt=\"Open In Colab\"/></a>"
      ]
    },
    {
      "cell_type": "code",
      "execution_count": null,
      "metadata": {
        "colab": {
          "base_uri": "https://localhost:8080/"
        },
        "id": "ZlhR9RCOZ_pZ",
        "outputId": "73711954-bb2a-4bbb-98e6-c096fb76e07b"
      },
      "outputs": [
        {
          "output_type": "stream",
          "name": "stdout",
          "text": [
            "Reading package lists... Done\n",
            "Building dependency tree... Done\n",
            "Reading state information... Done\n",
            "build-essential is already the newest version (12.9ubuntu3).\n",
            "0 upgraded, 0 newly installed, 0 to remove and 45 not upgraded.\n",
            "/usr/bin/ld: /usr/lib/gcc/x86_64-linux-gnu/11/../../../x86_64-linux-gnu/Scrt1.o: in function `_start':\n",
            "(.text+0x1b): undefined reference to `main'\n",
            "collect2: error: ld returned 1 exit status\n",
            "/bin/bash: line 1: ./add: No such file or directory\n"
          ]
        }
      ],
      "source": [
        "# Install necessary libraries if not already installed\n",
        "!apt-get install build-essential\n",
        "\n",
        "# Write your CUDA C++ code in a string or in a file\n",
        "cuda_cpp_code = \"\"\"\n",
        "extern \"C\" __global__ void add(int *x, int *y) {\n",
        "    int index = threadIdx.x + blockIdx.x * blockDim.x;\n",
        "    y[index] = x[index] + 1;\n",
        "}\n",
        "\"\"\"\n",
        "\n",
        "# Save the CUDA C++ code to a file\n",
        "with open('add.cu', 'w') as f:\n",
        "    f.write(cuda_cpp_code)\n",
        "\n",
        "# Compile the CUDA C++ code\n",
        "!nvcc -o add add.cu\n",
        "\n",
        "# Run the compiled binary\n",
        "!./add"
      ]
    },
    {
      "cell_type": "code",
      "source": [],
      "metadata": {
        "id": "IerqsNwHakZi"
      },
      "execution_count": null,
      "outputs": []
    }
  ]
}