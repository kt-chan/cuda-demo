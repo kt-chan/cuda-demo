{
  "cells": [
    {
      "cell_type": "markdown",
      "metadata": {
        "id": "view-in-github",
        "colab_type": "text"
      },
      "source": [
        "<a href=\"https://colab.research.google.com/github/kt-chan/cuda-demo/blob/main/cuda_cplusplus.ipynb\" target=\"_parent\"><img src=\"https://colab.research.google.com/assets/colab-badge.svg\" alt=\"Open In Colab\"/></a>"
      ]
    },
    {
      "cell_type": "markdown",
      "metadata": {
        "id": "-hxH1vx9kA8g"
      },
      "source": [
        "# 使用Google Colab寫C++程式並運行"
      ]
    },
    {
      "cell_type": "markdown",
      "metadata": {
        "id": "zoFMIvx-kKi5"
      },
      "source": [
        "Create sample c++ code with %%writefile filename.cpp"
      ]
    },
    {
      "cell_type": "code",
      "execution_count": null,
      "metadata": {
        "colab": {
          "base_uri": "https://localhost:8080/"
        },
        "id": "OK0fQaW4kHu6",
        "outputId": "d02ebe5d-4914-414a-f95a-6faaeecb69b2"
      },
      "outputs": [
        {
          "name": "stdout",
          "output_type": "stream",
          "text": [
            "Overwriting demo.cpp\n"
          ]
        }
      ],
      "source": [
        "%%writefile demo.cpp\n",
        "\n",
        "#include <iostream>\n",
        "using namespace std;\n",
        "int main()\n",
        "{\n",
        "    string text = \"world2\";\n",
        "    cout << \"hello, \" + text;\n",
        "}"
      ]
    },
    {
      "cell_type": "markdown",
      "metadata": {
        "id": "DtYGbEoVkaFa"
      },
      "source": [
        "Compile the code with %%shell command"
      ]
    },
    {
      "cell_type": "code",
      "execution_count": null,
      "metadata": {
        "colab": {
          "base_uri": "https://localhost:8080/"
        },
        "id": "yl4tUf6nkdRm",
        "outputId": "fdc8fa6f-16f8-4b0c-cd21-db3ea9515626"
      },
      "outputs": [
        {
          "data": {
            "text/plain": []
          },
          "execution_count": 13,
          "metadata": {},
          "output_type": "execute_result"
        }
      ],
      "source": [
        "%%shell\n",
        "\n",
        "g++ demo.cpp -o demo"
      ]
    },
    {
      "cell_type": "markdown",
      "metadata": {
        "id": "hziN6Cn6kla_"
      },
      "source": [
        "Execution by just run it, with %%shell command."
      ]
    },
    {
      "cell_type": "code",
      "execution_count": null,
      "metadata": {
        "colab": {
          "base_uri": "https://localhost:8080/"
        },
        "id": "g6xM1r5Skkcl",
        "outputId": "7db344c6-b64f-4e31-8423-2c7e0f59c20f"
      },
      "outputs": [
        {
          "name": "stdout",
          "output_type": "stream",
          "text": [
            "Hello World!\n"
          ]
        },
        {
          "data": {
            "text/plain": []
          },
          "execution_count": 14,
          "metadata": {},
          "output_type": "execute_result"
        }
      ],
      "source": [
        "%%shell\n",
        "./demo"
      ]
    },
    {
      "cell_type": "code",
      "execution_count": null,
      "metadata": {
        "id": "DoOTaMUckvVH"
      },
      "outputs": [],
      "source": []
    },
    {
      "cell_type": "markdown",
      "metadata": {
        "id": "5Svv4POytgLu"
      },
      "source": [
        "# 配置 CUDA Environment"
      ]
    },
    {
      "cell_type": "code",
      "execution_count": null,
      "metadata": {
        "colab": {
          "base_uri": "https://localhost:8080/"
        },
        "id": "LeBPLY2jsBB8",
        "outputId": "215d901f-79b0-44fd-ddc7-915c2dbdff17"
      },
      "outputs": [
        {
          "output_type": "stream",
          "name": "stdout",
          "text": [
            "Thu May 23 03:05:16 2024       \n",
            "+---------------------------------------------------------------------------------------+\n",
            "| NVIDIA-SMI 535.104.05             Driver Version: 535.104.05   CUDA Version: 12.2     |\n",
            "|-----------------------------------------+----------------------+----------------------+\n",
            "| GPU  Name                 Persistence-M | Bus-Id        Disp.A | Volatile Uncorr. ECC |\n",
            "| Fan  Temp   Perf          Pwr:Usage/Cap |         Memory-Usage | GPU-Util  Compute M. |\n",
            "|                                         |                      |               MIG M. |\n",
            "|=========================================+======================+======================|\n",
            "|   0  Tesla T4                       Off | 00000000:00:04.0 Off |                    0 |\n",
            "| N/A   67C    P8              10W /  70W |      0MiB / 15360MiB |      0%      Default |\n",
            "|                                         |                      |                  N/A |\n",
            "+-----------------------------------------+----------------------+----------------------+\n",
            "                                                                                         \n",
            "+---------------------------------------------------------------------------------------+\n",
            "| Processes:                                                                            |\n",
            "|  GPU   GI   CI        PID   Type   Process name                            GPU Memory |\n",
            "|        ID   ID                                                             Usage      |\n",
            "|=======================================================================================|\n",
            "|  No running processes found                                                           |\n",
            "+---------------------------------------------------------------------------------------+\n"
          ]
        }
      ],
      "source": [
        "# check nvidia card info\n",
        "!nvidia-smi"
      ]
    },
    {
      "cell_type": "code",
      "execution_count": null,
      "metadata": {
        "colab": {
          "base_uri": "https://localhost:8080/"
        },
        "id": "Jsym_6pxsmd1",
        "outputId": "ba7e0a99-9ec3-4be4-c446-f7212dfdd758"
      },
      "outputs": [
        {
          "name": "stdout",
          "output_type": "stream",
          "text": [
            "DISTRIB_ID=Ubuntu\n",
            "DISTRIB_RELEASE=22.04\n",
            "DISTRIB_CODENAME=jammy\n",
            "DISTRIB_DESCRIPTION=\"Ubuntu 22.04.3 LTS\"\n",
            "PRETTY_NAME=\"Ubuntu 22.04.3 LTS\"\n",
            "NAME=\"Ubuntu\"\n",
            "VERSION_ID=\"22.04\"\n",
            "VERSION=\"22.04.3 LTS (Jammy Jellyfish)\"\n",
            "VERSION_CODENAME=jammy\n",
            "ID=ubuntu\n",
            "ID_LIKE=debian\n",
            "HOME_URL=\"https://www.ubuntu.com/\"\n",
            "SUPPORT_URL=\"https://help.ubuntu.com/\"\n",
            "BUG_REPORT_URL=\"https://bugs.launchpad.net/ubuntu/\"\n",
            "PRIVACY_POLICY_URL=\"https://www.ubuntu.com/legal/terms-and-policies/privacy-policy\"\n",
            "UBUNTU_CODENAME=jammy\n"
          ]
        }
      ],
      "source": [
        "# check os info\n",
        "!cat /etc/*release"
      ]
    },
    {
      "cell_type": "code",
      "execution_count": null,
      "metadata": {
        "colab": {
          "base_uri": "https://localhost:8080/"
        },
        "id": "NoNkF4uZwmLs",
        "outputId": "3f7d13a4-ca77-441e-ffb8-c3ab9015161f"
      },
      "outputs": [
        {
          "name": "stdout",
          "output_type": "stream",
          "text": [
            "/content\n"
          ]
        }
      ],
      "source": [
        "#get current working directory\n",
        "!pwd"
      ]
    },
    {
      "cell_type": "markdown",
      "metadata": {
        "id": "B4HXqDEyt7Fi"
      },
      "source": [
        "Remote all legacy cuda framework, and update to latest version Go here: https://developer.nvidia.com/cuda-downloads"
      ]
    },
    {
      "cell_type": "code",
      "execution_count": null,
      "metadata": {
        "id": "wMZ4P3UQr0m7"
      },
      "outputs": [],
      "source": [
        "!apt-get --purge remove cuda nvidia* libnvidia-*\n",
        "!dpkg -l | grep cuda- | awk '{print $2}' | xargs -n1 dpkg --purge\n",
        "!apt-get remove cuda-*\n",
        "!apt autoremove\n",
        "!apt-get update"
      ]
    },
    {
      "cell_type": "code",
      "execution_count": null,
      "metadata": {
        "colab": {
          "base_uri": "https://localhost:8080/"
        },
        "collapsed": true,
        "id": "2HgFrvX_tAfu",
        "outputId": "1bfd45af-cf68-4aa2-92ac-89b7cd4b4258"
      },
      "outputs": [
        {
          "name": "stdout",
          "output_type": "stream",
          "text": [
            "--2024-05-22 09:49:35--  https://developer.download.nvidia.com/compute/cuda/repos/ubuntu2204/x86_64/cuda-ubuntu2204.pin\n",
            "Resolving developer.download.nvidia.com (developer.download.nvidia.com)... 152.195.19.142\n",
            "Connecting to developer.download.nvidia.com (developer.download.nvidia.com)|152.195.19.142|:443... connected.\n",
            "HTTP request sent, awaiting response... 200 OK\n",
            "Length: 190 [application/octet-stream]\n",
            "Saving to: ‘cuda-ubuntu2204.pin’\n",
            "\n",
            "\rcuda-ubuntu2204.pin   0%[                    ]       0  --.-KB/s               \rcuda-ubuntu2204.pin 100%[===================>]     190  --.-KB/s    in 0s      \n",
            "\n",
            "2024-05-22 09:49:36 (4.09 MB/s) - ‘cuda-ubuntu2204.pin’ saved [190/190]\n",
            "\n",
            "--2024-05-22 09:49:36--  https://developer.download.nvidia.com/compute/cuda/12.5.0/local_installers/cuda-repo-ubuntu2204-12-5-local_12.5.0-555.42.02-1_amd64.deb\n",
            "Resolving developer.download.nvidia.com (developer.download.nvidia.com)... 152.195.19.142\n",
            "Connecting to developer.download.nvidia.com (developer.download.nvidia.com)|152.195.19.142|:443... connected.\n",
            "HTTP request sent, awaiting response... 200 OK\n",
            "Length: 3302514250 (3.1G) [application/x-deb]\n",
            "Saving to: ‘cuda-repo-ubuntu2204-12-5-local_12.5.0-555.42.02-1_amd64.deb’\n",
            "\n",
            "cuda-repo-ubuntu220 100%[===================>]   3.08G  93.9MB/s    in 19s     \n",
            "\n",
            "2024-05-22 09:49:55 (163 MB/s) - ‘cuda-repo-ubuntu2204-12-5-local_12.5.0-555.42.02-1_amd64.deb’ saved [3302514250/3302514250]\n",
            "\n",
            "Selecting previously unselected package cuda-repo-ubuntu2204-12-5-local.\n",
            "(Reading database ... 119805 files and directories currently installed.)\n",
            "Preparing to unpack cuda-repo-ubuntu2204-12-5-local_12.5.0-555.42.02-1_amd64.deb ...\n",
            "Unpacking cuda-repo-ubuntu2204-12-5-local (12.5.0-555.42.02-1) ...\n",
            "Setting up cuda-repo-ubuntu2204-12-5-local (12.5.0-555.42.02-1) ...\n",
            "\n",
            "The public cuda-repo-ubuntu2204-12-5-local GPG key does not appear to be installed.\n",
            "To install the key, run this command:\n",
            "sudo cp /var/cuda-repo-ubuntu2204-12-5-local/cuda-E8D32221-keyring.gpg /usr/share/keyrings/\n",
            "\n",
            "Get:1 file:/var/cuda-repo-ubuntu2204-12-5-local  InRelease [1,572 B]\n",
            "Get:1 file:/var/cuda-repo-ubuntu2204-12-5-local  InRelease [1,572 B]\n",
            "Get:2 file:/var/cuda-repo-ubuntu2204-12-5-local  Packages [40.9 kB]\n",
            "Hit:3 https://cloud.r-project.org/bin/linux/ubuntu jammy-cran40/ InRelease\n",
            "Hit:4 http://security.ubuntu.com/ubuntu jammy-security InRelease\n",
            "Hit:5 http://archive.ubuntu.com/ubuntu jammy InRelease\n",
            "Hit:6 http://archive.ubuntu.com/ubuntu jammy-updates InRelease\n",
            "Hit:7 http://archive.ubuntu.com/ubuntu jammy-backports InRelease\n",
            "Hit:8 https://ppa.launchpadcontent.net/c2d4u.team/c2d4u4.0+/ubuntu jammy InRelease\n",
            "Hit:9 https://ppa.launchpadcontent.net/deadsnakes/ppa/ubuntu jammy InRelease\n",
            "Hit:10 https://ppa.launchpadcontent.net/graphics-drivers/ppa/ubuntu jammy InRelease\n",
            "Hit:11 https://ppa.launchpadcontent.net/ubuntugis/ppa/ubuntu jammy InRelease\n",
            "Reading package lists... Done\n",
            "Reading package lists... Done\n",
            "Building dependency tree... Done\n",
            "Reading state information... Done\n",
            "The following additional packages will be installed:\n",
            "  cuda-cccl-12-5 cuda-command-line-tools-12-5 cuda-compiler-12-5 cuda-crt-12-5\n",
            "  cuda-cudart-12-5 cuda-cudart-dev-12-5 cuda-cuobjdump-12-5 cuda-cupti-12-5\n",
            "  cuda-cupti-dev-12-5 cuda-cuxxfilt-12-5 cuda-documentation-12-5\n",
            "  cuda-driver-dev-12-5 cuda-gdb-12-5 cuda-libraries-12-5\n",
            "  cuda-libraries-dev-12-5 cuda-nsight-12-5 cuda-nsight-compute-12-5\n",
            "  cuda-nsight-systems-12-5 cuda-nvcc-12-5 cuda-nvdisasm-12-5\n",
            "  cuda-nvml-dev-12-5 cuda-nvprof-12-5 cuda-nvprune-12-5 cuda-nvrtc-12-5\n",
            "  cuda-nvrtc-dev-12-5 cuda-nvtx-12-5 cuda-nvvm-12-5 cuda-nvvp-12-5\n",
            "  cuda-opencl-12-5 cuda-opencl-dev-12-5 cuda-profiler-api-12-5\n",
            "  cuda-sanitizer-12-5 cuda-toolkit-12-5-config-common cuda-tools-12-5\n",
            "  cuda-visual-tools-12-5 default-jre default-jre-headless fonts-dejavu-core\n",
            "  fonts-dejavu-extra gds-tools-12-5 libatk-wrapper-java\n",
            "  libatk-wrapper-java-jni libcublas-12-5 libcublas-dev-12-5 libcufft-12-5\n",
            "  libcufft-dev-12-5 libcufile-12-5 libcufile-dev-12-5 libcurand-12-5\n",
            "  libcurand-dev-12-5 libcusolver-12-5 libcusolver-dev-12-5 libcusparse-12-5\n",
            "  libcusparse-dev-12-5 libfontenc1 libnpp-12-5 libnpp-dev-12-5\n",
            "  libnvfatbin-12-5 libnvfatbin-dev-12-5 libnvjitlink-12-5\n",
            "  libnvjitlink-dev-12-5 libnvjpeg-12-5 libnvjpeg-dev-12-5 libxcb-cursor0\n",
            "  libxcb-icccm4 libxcb-image0 libxcb-keysyms1 libxcb-render-util0 libxcb-util1\n",
            "  libxcb-xinerama0 libxcb-xinput0 libxcb-xkb1 libxkbcommon-x11-0 libxkbfile1\n",
            "  libxtst6 libxxf86dga1 nsight-compute-2024.2.0 nsight-systems-2024.2.3\n",
            "  openjdk-11-jre x11-utils\n",
            "Suggested packages:\n",
            "  mesa-utils\n",
            "The following NEW packages will be installed:\n",
            "  cuda-cccl-12-5 cuda-command-line-tools-12-5 cuda-compiler-12-5 cuda-crt-12-5\n",
            "  cuda-cudart-12-5 cuda-cudart-dev-12-5 cuda-cuobjdump-12-5 cuda-cupti-12-5\n",
            "  cuda-cupti-dev-12-5 cuda-cuxxfilt-12-5 cuda-documentation-12-5\n",
            "  cuda-driver-dev-12-5 cuda-gdb-12-5 cuda-libraries-12-5\n",
            "  cuda-libraries-dev-12-5 cuda-nsight-12-5 cuda-nsight-compute-12-5\n",
            "  cuda-nsight-systems-12-5 cuda-nvcc-12-5 cuda-nvdisasm-12-5\n",
            "  cuda-nvml-dev-12-5 cuda-nvprof-12-5 cuda-nvprune-12-5 cuda-nvrtc-12-5\n",
            "  cuda-nvrtc-dev-12-5 cuda-nvtx-12-5 cuda-nvvm-12-5 cuda-nvvp-12-5\n",
            "  cuda-opencl-12-5 cuda-opencl-dev-12-5 cuda-profiler-api-12-5\n",
            "  cuda-sanitizer-12-5 cuda-toolkit-12-5 cuda-toolkit-12-5-config-common\n",
            "  cuda-tools-12-5 cuda-visual-tools-12-5 default-jre default-jre-headless\n",
            "  fonts-dejavu-core fonts-dejavu-extra gds-tools-12-5 libatk-wrapper-java\n",
            "  libatk-wrapper-java-jni libcublas-12-5 libcublas-dev-12-5 libcufft-12-5\n",
            "  libcufft-dev-12-5 libcufile-12-5 libcufile-dev-12-5 libcurand-12-5\n",
            "  libcurand-dev-12-5 libcusolver-12-5 libcusolver-dev-12-5 libcusparse-12-5\n",
            "  libcusparse-dev-12-5 libfontenc1 libnpp-12-5 libnpp-dev-12-5\n",
            "  libnvfatbin-12-5 libnvfatbin-dev-12-5 libnvjitlink-12-5\n",
            "  libnvjitlink-dev-12-5 libnvjpeg-12-5 libnvjpeg-dev-12-5 libxcb-cursor0\n",
            "  libxcb-icccm4 libxcb-image0 libxcb-keysyms1 libxcb-render-util0 libxcb-util1\n",
            "  libxcb-xinerama0 libxcb-xinput0 libxcb-xkb1 libxkbcommon-x11-0 libxkbfile1\n",
            "  libxtst6 libxxf86dga1 nsight-compute-2024.2.0 nsight-systems-2024.2.3\n",
            "  openjdk-11-jre x11-utils\n",
            "0 upgraded, 81 newly installed, 0 to remove and 40 not upgraded.\n",
            "Need to get 3,871 kB/2,879 MB of archives.\n",
            "After this operation, 6,484 MB of additional disk space will be used.\n",
            "Get:1 file:/var/cuda-repo-ubuntu2204-12-5-local  cuda-cccl-12-5 12.5.39-1 [1,241 kB]\n",
            "Get:2 file:/var/cuda-repo-ubuntu2204-12-5-local  cuda-cupti-12-5 12.5.39-1 [16.8 MB]\n",
            "Get:3 http://archive.ubuntu.com/ubuntu jammy/main amd64 default-jre-headless amd64 2:1.11-72build2 [3,042 B]\n",
            "Get:4 file:/var/cuda-repo-ubuntu2204-12-5-local  cuda-cupti-dev-12-5 12.5.39-1 [3,834 kB]\n",
            "Get:5 http://archive.ubuntu.com/ubuntu jammy/main amd64 libxtst6 amd64 2:1.2.3-1build4 [13.4 kB]\n",
            "Get:6 http://archive.ubuntu.com/ubuntu jammy-updates/main amd64 openjdk-11-jre amd64 11.0.22+7-0ubuntu2~22.04.1 [214 kB]\n",
            "Get:7 http://archive.ubuntu.com/ubuntu jammy/main amd64 default-jre amd64 2:1.11-72build2 [896 B]\n",
            "Get:8 http://archive.ubuntu.com/ubuntu jammy/main amd64 libxcb-xinerama0 amd64 1.14-3ubuntu3 [5,414 B]\n",
            "Get:9 http://archive.ubuntu.com/ubuntu jammy/main amd64 libxcb-icccm4 amd64 0.4.1-1.1build2 [11.5 kB]\n",
            "Get:10 http://archive.ubuntu.com/ubuntu jammy/main amd64 libxcb-util1 amd64 0.4.0-1build2 [11.4 kB]\n",
            "Get:11 http://archive.ubuntu.com/ubuntu jammy/main amd64 libxcb-image0 amd64 0.4.0-2 [11.5 kB]\n",
            "Get:12 http://archive.ubuntu.com/ubuntu jammy/main amd64 libxcb-keysyms1 amd64 0.4.0-1build3 [8,746 B]\n",
            "Get:13 http://archive.ubuntu.com/ubuntu jammy/main amd64 libxcb-render-util0 amd64 0.3.9-1build3 [10.3 kB]\n",
            "Get:14 http://archive.ubuntu.com/ubuntu jammy/main amd64 libxcb-xkb1 amd64 1.14-3ubuntu3 [32.8 kB]\n",
            "Get:15 file:/var/cuda-repo-ubuntu2204-12-5-local  cuda-nvdisasm-12-5 12.5.39-1 [49.9 MB]\n",
            "Get:16 file:/var/cuda-repo-ubuntu2204-12-5-local  cuda-cuobjdump-12-5 12.5.39-1 [220 kB]\n",
            "Get:17 http://archive.ubuntu.com/ubuntu jammy/main amd64 libxkbcommon-x11-0 amd64 1.4.0-1 [14.4 kB]\n",
            "Get:18 file:/var/cuda-repo-ubuntu2204-12-5-local  cuda-gdb-12-5 12.5.39-1 [27.2 MB]\n",
            "Get:19 file:/var/cuda-repo-ubuntu2204-12-5-local  cuda-nvprof-12-5 12.5.39-1 [2,431 kB]\n",
            "Get:20 file:/var/cuda-repo-ubuntu2204-12-5-local  cuda-nvtx-12-5 12.5.39-1 [51.5 kB]\n",
            "Get:21 http://archive.ubuntu.com/ubuntu jammy/main amd64 libxcb-xinput0 amd64 1.14-3ubuntu3 [34.3 kB]\n",
            "Get:22 http://archive.ubuntu.com/ubuntu jammy/universe amd64 libxcb-cursor0 amd64 0.1.1-4ubuntu1 [10.5 kB]\n",
            "Get:23 file:/var/cuda-repo-ubuntu2204-12-5-local  cuda-sanitizer-12-5 12.5.39-1 [9,244 kB]\n",
            "Get:24 file:/var/cuda-repo-ubuntu2204-12-5-local  cuda-command-line-tools-12-5 12.5.0-1 [2,546 B]\n",
            "Get:25 file:/var/cuda-repo-ubuntu2204-12-5-local  cuda-cuxxfilt-12-5 12.5.39-1 [190 kB]\n",
            "Get:26 file:/var/cuda-repo-ubuntu2204-12-5-local  cuda-toolkit-12-5-config-common 12.5.39-1 [16.5 kB]\n",
            "Get:27 file:/var/cuda-repo-ubuntu2204-12-5-local  cuda-cudart-12-5 12.5.39-1 [165 kB]\n",
            "Get:28 http://archive.ubuntu.com/ubuntu jammy/main amd64 fonts-dejavu-core all 2.37-2build1 [1,041 kB]\n",
            "Get:29 file:/var/cuda-repo-ubuntu2204-12-5-local  cuda-driver-dev-12-5 12.5.39-1 [29.0 kB]\n",
            "Get:30 file:/var/cuda-repo-ubuntu2204-12-5-local  cuda-cudart-dev-12-5 12.5.39-1 [1,008 kB]\n",
            "Get:31 file:/var/cuda-repo-ubuntu2204-12-5-local  cuda-nvvm-12-5 12.5.40-1 [19.6 MB]\n",
            "Get:32 file:/var/cuda-repo-ubuntu2204-12-5-local  cuda-crt-12-5 12.5.40-1 [77.1 kB]\n",
            "Get:33 http://archive.ubuntu.com/ubuntu jammy/main amd64 fonts-dejavu-extra all 2.37-2build1 [2,041 kB]\n",
            "Get:34 http://archive.ubuntu.com/ubuntu jammy/main amd64 libfontenc1 amd64 1:1.1.4-1build3 [14.7 kB]\n",
            "Get:35 http://archive.ubuntu.com/ubuntu jammy/main amd64 libxkbfile1 amd64 1:1.1.0-1build3 [71.8 kB]\n",
            "Get:36 http://archive.ubuntu.com/ubuntu jammy/main amd64 libxxf86dga1 amd64 2:1.1.5-0ubuntu3 [12.6 kB]\n",
            "Get:37 http://archive.ubuntu.com/ubuntu jammy/main amd64 x11-utils amd64 7.7+5build2 [206 kB]\n",
            "Get:38 http://archive.ubuntu.com/ubuntu jammy/main amd64 libatk-wrapper-java all 0.38.0-5build1 [53.1 kB]\n",
            "Get:39 http://archive.ubuntu.com/ubuntu jammy/main amd64 libatk-wrapper-java-jni amd64 0.38.0-5build1 [49.0 kB]\n",
            "Get:40 file:/var/cuda-repo-ubuntu2204-12-5-local  cuda-nvcc-12-5 12.5.40-1 [32.5 MB]\n",
            "Get:41 file:/var/cuda-repo-ubuntu2204-12-5-local  cuda-nvprune-12-5 12.5.39-1 [59.3 kB]\n",
            "Get:42 file:/var/cuda-repo-ubuntu2204-12-5-local  cuda-compiler-12-5 12.5.0-1 [2,506 B]\n",
            "Get:43 file:/var/cuda-repo-ubuntu2204-12-5-local  cuda-documentation-12-5 12.5.39-1 [50.1 kB]\n",
            "Get:44 file:/var/cuda-repo-ubuntu2204-12-5-local  cuda-nvrtc-12-5 12.5.40-1 [17.8 MB]\n",
            "Get:45 file:/var/cuda-repo-ubuntu2204-12-5-local  cuda-opencl-12-5 12.5.39-1 [24.0 kB]\n",
            "Get:46 file:/var/cuda-repo-ubuntu2204-12-5-local  libcublas-12-5 12.5.2.13-1 [241 MB]\n",
            "Get:47 file:/var/cuda-repo-ubuntu2204-12-5-local  libcufft-12-5 11.2.3.18-1 [153 MB]\n",
            "Get:48 file:/var/cuda-repo-ubuntu2204-12-5-local  libcufile-12-5 1.10.0.4-1 [850 kB]\n",
            "Get:49 file:/var/cuda-repo-ubuntu2204-12-5-local  libcurand-12-5 10.3.6.39-1 [41.4 MB]\n",
            "Get:50 file:/var/cuda-repo-ubuntu2204-12-5-local  libcusolver-12-5 11.6.2.40-1 [81.2 MB]\n",
            "Get:51 file:/var/cuda-repo-ubuntu2204-12-5-local  libcusparse-12-5 12.4.1.24-1 [115 MB]\n",
            "Get:52 file:/var/cuda-repo-ubuntu2204-12-5-local  libnpp-12-5 12.3.0.116-1 [95.8 MB]\n",
            "Get:53 file:/var/cuda-repo-ubuntu2204-12-5-local  libnvjitlink-12-5 12.5.40-1 [15.7 MB]\n",
            "Get:54 file:/var/cuda-repo-ubuntu2204-12-5-local  libnvfatbin-12-5 12.5.39-1 [733 kB]\n",
            "Get:55 file:/var/cuda-repo-ubuntu2204-12-5-local  libnvjpeg-12-5 12.3.2.38-1 [2,331 kB]\n",
            "Get:56 file:/var/cuda-repo-ubuntu2204-12-5-local  cuda-libraries-12-5 12.5.0-1 [2,614 B]\n",
            "Get:57 file:/var/cuda-repo-ubuntu2204-12-5-local  cuda-profiler-api-12-5 12.5.39-1 [18.7 kB]\n",
            "Get:58 file:/var/cuda-repo-ubuntu2204-12-5-local  cuda-nvrtc-dev-12-5 12.5.40-1 [17.0 MB]\n",
            "Get:59 file:/var/cuda-repo-ubuntu2204-12-5-local  cuda-opencl-dev-12-5 12.5.39-1 [87.7 kB]\n",
            "Get:60 file:/var/cuda-repo-ubuntu2204-12-5-local  libcublas-dev-12-5 12.5.2.13-1 [259 MB]\n",
            "Get:61 file:/var/cuda-repo-ubuntu2204-12-5-local  libcufft-dev-12-5 11.2.3.18-1 [305 MB]\n",
            "Get:62 file:/var/cuda-repo-ubuntu2204-12-5-local  libcufile-dev-12-5 1.10.0.4-1 [2,433 kB]\n",
            "Get:63 file:/var/cuda-repo-ubuntu2204-12-5-local  libcurand-dev-12-5 10.3.6.39-1 [41.6 MB]\n",
            "Get:64 file:/var/cuda-repo-ubuntu2204-12-5-local  libcusolver-dev-12-5 11.6.2.40-1 [51.9 MB]\n",
            "Get:65 file:/var/cuda-repo-ubuntu2204-12-5-local  libcusparse-dev-12-5 12.4.1.24-1 [117 MB]\n",
            "Get:66 file:/var/cuda-repo-ubuntu2204-12-5-local  libnpp-dev-12-5 12.3.0.116-1 [92.2 MB]\n",
            "Get:67 file:/var/cuda-repo-ubuntu2204-12-5-local  libnvjitlink-dev-12-5 12.5.40-1 [14.1 MB]\n",
            "Get:68 file:/var/cuda-repo-ubuntu2204-12-5-local  libnvfatbin-dev-12-5 12.5.39-1 [606 kB]\n",
            "Get:69 file:/var/cuda-repo-ubuntu2204-12-5-local  libnvjpeg-dev-12-5 12.3.2.38-1 [2,028 kB]\n",
            "Get:70 file:/var/cuda-repo-ubuntu2204-12-5-local  cuda-libraries-dev-12-5 12.5.0-1 [2,654 B]\n",
            "Get:71 file:/var/cuda-repo-ubuntu2204-12-5-local  cuda-nsight-12-5 12.5.39-1 [119 MB]\n",
            "Get:72 file:/var/cuda-repo-ubuntu2204-12-5-local  nsight-compute-2024.2.0 2024.2.0.16-1 [432 MB]\n",
            "Get:73 file:/var/cuda-repo-ubuntu2204-12-5-local  cuda-nsight-compute-12-5 12.5.0-1 [4,064 B]\n",
            "Get:74 file:/var/cuda-repo-ubuntu2204-12-5-local  nsight-systems-2024.2.3 2024.2.3.38-242334140272v0 [342 MB]\n",
            "Get:75 file:/var/cuda-repo-ubuntu2204-12-5-local  cuda-nsight-systems-12-5 12.5.0-1 [3,352 B]\n",
            "Get:76 file:/var/cuda-repo-ubuntu2204-12-5-local  cuda-nvml-dev-12-5 12.5.39-1 [147 kB]\n",
            "Get:77 file:/var/cuda-repo-ubuntu2204-12-5-local  cuda-nvvp-12-5 12.5.39-1 [113 MB]\n",
            "Get:78 file:/var/cuda-repo-ubuntu2204-12-5-local  cuda-visual-tools-12-5 12.5.0-1 [2,942 B]\n",
            "Get:79 file:/var/cuda-repo-ubuntu2204-12-5-local  gds-tools-12-5 1.10.0.4-1 [39.0 MB]\n",
            "Get:80 file:/var/cuda-repo-ubuntu2204-12-5-local  cuda-tools-12-5 12.5.0-1 [2,466 B]\n",
            "Get:81 file:/var/cuda-repo-ubuntu2204-12-5-local  cuda-toolkit-12-5 12.5.0-1 [3,344 B]\n",
            "Fetched 3,871 kB in 29s (135 kB/s)\n",
            "debconf: unable to initialize frontend: Dialog\n",
            "debconf: (No usable dialog-like program is installed, so the dialog based frontend cannot be used. at /usr/share/perl5/Debconf/FrontEnd/Dialog.pm line 78, <> line 81.)\n",
            "debconf: falling back to frontend: Readline\n",
            "debconf: unable to initialize frontend: Readline\n",
            "debconf: (This frontend requires a controlling tty.)\n",
            "debconf: falling back to frontend: Teletype\n",
            "dpkg-preconfigure: unable to re-open stdin: \n",
            "Selecting previously unselected package cuda-cccl-12-5.\n",
            "(Reading database ... 119962 files and directories currently installed.)\n",
            "Preparing to unpack .../00-cuda-cccl-12-5_12.5.39-1_amd64.deb ...\n",
            "Unpacking cuda-cccl-12-5 (12.5.39-1) ...\n",
            "Selecting previously unselected package cuda-cupti-12-5.\n",
            "Preparing to unpack .../01-cuda-cupti-12-5_12.5.39-1_amd64.deb ...\n",
            "Unpacking cuda-cupti-12-5 (12.5.39-1) ...\n",
            "Selecting previously unselected package cuda-cupti-dev-12-5.\n",
            "Preparing to unpack .../02-cuda-cupti-dev-12-5_12.5.39-1_amd64.deb ...\n",
            "Unpacking cuda-cupti-dev-12-5 (12.5.39-1) ...\n",
            "Selecting previously unselected package cuda-nvdisasm-12-5.\n",
            "Preparing to unpack .../03-cuda-nvdisasm-12-5_12.5.39-1_amd64.deb ...\n",
            "Unpacking cuda-nvdisasm-12-5 (12.5.39-1) ...\n",
            "Selecting previously unselected package cuda-cuobjdump-12-5.\n",
            "Preparing to unpack .../04-cuda-cuobjdump-12-5_12.5.39-1_amd64.deb ...\n",
            "Unpacking cuda-cuobjdump-12-5 (12.5.39-1) ...\n",
            "Selecting previously unselected package cuda-gdb-12-5.\n",
            "Preparing to unpack .../05-cuda-gdb-12-5_12.5.39-1_amd64.deb ...\n",
            "Unpacking cuda-gdb-12-5 (12.5.39-1) ...\n",
            "Selecting previously unselected package cuda-nvprof-12-5.\n",
            "Preparing to unpack .../06-cuda-nvprof-12-5_12.5.39-1_amd64.deb ...\n",
            "Unpacking cuda-nvprof-12-5 (12.5.39-1) ...\n",
            "Selecting previously unselected package cuda-nvtx-12-5.\n",
            "Preparing to unpack .../07-cuda-nvtx-12-5_12.5.39-1_amd64.deb ...\n",
            "Unpacking cuda-nvtx-12-5 (12.5.39-1) ...\n",
            "Selecting previously unselected package cuda-sanitizer-12-5.\n",
            "Preparing to unpack .../08-cuda-sanitizer-12-5_12.5.39-1_amd64.deb ...\n",
            "Unpacking cuda-sanitizer-12-5 (12.5.39-1) ...\n",
            "Selecting previously unselected package cuda-command-line-tools-12-5.\n",
            "Preparing to unpack .../09-cuda-command-line-tools-12-5_12.5.0-1_amd64.deb ...\n",
            "Unpacking cuda-command-line-tools-12-5 (12.5.0-1) ...\n",
            "Selecting previously unselected package cuda-cuxxfilt-12-5.\n",
            "Preparing to unpack .../10-cuda-cuxxfilt-12-5_12.5.39-1_amd64.deb ...\n",
            "Unpacking cuda-cuxxfilt-12-5 (12.5.39-1) ...\n",
            "Selecting previously unselected package cuda-toolkit-12-5-config-common.\n",
            "Preparing to unpack .../11-cuda-toolkit-12-5-config-common_12.5.39-1_all.deb ...\n",
            "Unpacking cuda-toolkit-12-5-config-common (12.5.39-1) ...\n",
            "Selecting previously unselected package cuda-cudart-12-5.\n",
            "Preparing to unpack .../12-cuda-cudart-12-5_12.5.39-1_amd64.deb ...\n",
            "Unpacking cuda-cudart-12-5 (12.5.39-1) ...\n",
            "Selecting previously unselected package cuda-driver-dev-12-5.\n",
            "Preparing to unpack .../13-cuda-driver-dev-12-5_12.5.39-1_amd64.deb ...\n",
            "Unpacking cuda-driver-dev-12-5 (12.5.39-1) ...\n",
            "Selecting previously unselected package cuda-cudart-dev-12-5.\n",
            "Preparing to unpack .../14-cuda-cudart-dev-12-5_12.5.39-1_amd64.deb ...\n",
            "Unpacking cuda-cudart-dev-12-5 (12.5.39-1) ...\n",
            "Selecting previously unselected package cuda-nvvm-12-5.\n",
            "Preparing to unpack .../15-cuda-nvvm-12-5_12.5.40-1_amd64.deb ...\n",
            "Unpacking cuda-nvvm-12-5 (12.5.40-1) ...\n",
            "Selecting previously unselected package cuda-crt-12-5.\n",
            "Preparing to unpack .../16-cuda-crt-12-5_12.5.40-1_amd64.deb ...\n",
            "Unpacking cuda-crt-12-5 (12.5.40-1) ...\n",
            "Selecting previously unselected package cuda-nvcc-12-5.\n",
            "Preparing to unpack .../17-cuda-nvcc-12-5_12.5.40-1_amd64.deb ...\n",
            "Unpacking cuda-nvcc-12-5 (12.5.40-1) ...\n",
            "Selecting previously unselected package cuda-nvprune-12-5.\n",
            "Preparing to unpack .../18-cuda-nvprune-12-5_12.5.39-1_amd64.deb ...\n",
            "Unpacking cuda-nvprune-12-5 (12.5.39-1) ...\n",
            "Selecting previously unselected package cuda-compiler-12-5.\n",
            "Preparing to unpack .../19-cuda-compiler-12-5_12.5.0-1_amd64.deb ...\n",
            "Unpacking cuda-compiler-12-5 (12.5.0-1) ...\n",
            "Selecting previously unselected package cuda-documentation-12-5.\n",
            "Preparing to unpack .../20-cuda-documentation-12-5_12.5.39-1_amd64.deb ...\n",
            "Unpacking cuda-documentation-12-5 (12.5.39-1) ...\n",
            "Selecting previously unselected package cuda-nvrtc-12-5.\n",
            "Preparing to unpack .../21-cuda-nvrtc-12-5_12.5.40-1_amd64.deb ...\n",
            "Unpacking cuda-nvrtc-12-5 (12.5.40-1) ...\n",
            "Selecting previously unselected package cuda-opencl-12-5.\n",
            "Preparing to unpack .../22-cuda-opencl-12-5_12.5.39-1_amd64.deb ...\n",
            "Unpacking cuda-opencl-12-5 (12.5.39-1) ...\n",
            "Selecting previously unselected package libcublas-12-5.\n",
            "Preparing to unpack .../23-libcublas-12-5_12.5.2.13-1_amd64.deb ...\n",
            "Unpacking libcublas-12-5 (12.5.2.13-1) ...\n",
            "Selecting previously unselected package libcufft-12-5.\n",
            "Preparing to unpack .../24-libcufft-12-5_11.2.3.18-1_amd64.deb ...\n",
            "Unpacking libcufft-12-5 (11.2.3.18-1) ...\n",
            "Selecting previously unselected package libcufile-12-5.\n",
            "Preparing to unpack .../25-libcufile-12-5_1.10.0.4-1_amd64.deb ...\n",
            "Unpacking libcufile-12-5 (1.10.0.4-1) ...\n",
            "Selecting previously unselected package libcurand-12-5.\n",
            "Preparing to unpack .../26-libcurand-12-5_10.3.6.39-1_amd64.deb ...\n",
            "Unpacking libcurand-12-5 (10.3.6.39-1) ...\n",
            "Selecting previously unselected package libcusolver-12-5.\n",
            "Preparing to unpack .../27-libcusolver-12-5_11.6.2.40-1_amd64.deb ...\n",
            "Unpacking libcusolver-12-5 (11.6.2.40-1) ...\n",
            "Selecting previously unselected package libcusparse-12-5.\n",
            "Preparing to unpack .../28-libcusparse-12-5_12.4.1.24-1_amd64.deb ...\n",
            "Unpacking libcusparse-12-5 (12.4.1.24-1) ...\n",
            "Selecting previously unselected package libnpp-12-5.\n",
            "Preparing to unpack .../29-libnpp-12-5_12.3.0.116-1_amd64.deb ...\n",
            "Unpacking libnpp-12-5 (12.3.0.116-1) ...\n",
            "Selecting previously unselected package libnvjitlink-12-5.\n",
            "Preparing to unpack .../30-libnvjitlink-12-5_12.5.40-1_amd64.deb ...\n",
            "Unpacking libnvjitlink-12-5 (12.5.40-1) ...\n",
            "Selecting previously unselected package libnvfatbin-12-5.\n",
            "Preparing to unpack .../31-libnvfatbin-12-5_12.5.39-1_amd64.deb ...\n",
            "Unpacking libnvfatbin-12-5 (12.5.39-1) ...\n",
            "Selecting previously unselected package libnvjpeg-12-5.\n",
            "Preparing to unpack .../32-libnvjpeg-12-5_12.3.2.38-1_amd64.deb ...\n",
            "Unpacking libnvjpeg-12-5 (12.3.2.38-1) ...\n",
            "Selecting previously unselected package cuda-libraries-12-5.\n",
            "Preparing to unpack .../33-cuda-libraries-12-5_12.5.0-1_amd64.deb ...\n",
            "Unpacking cuda-libraries-12-5 (12.5.0-1) ...\n",
            "Selecting previously unselected package cuda-profiler-api-12-5.\n",
            "Preparing to unpack .../34-cuda-profiler-api-12-5_12.5.39-1_amd64.deb ...\n",
            "Unpacking cuda-profiler-api-12-5 (12.5.39-1) ...\n",
            "Selecting previously unselected package cuda-nvrtc-dev-12-5.\n",
            "Preparing to unpack .../35-cuda-nvrtc-dev-12-5_12.5.40-1_amd64.deb ...\n",
            "Unpacking cuda-nvrtc-dev-12-5 (12.5.40-1) ...\n",
            "Selecting previously unselected package cuda-opencl-dev-12-5.\n",
            "Preparing to unpack .../36-cuda-opencl-dev-12-5_12.5.39-1_amd64.deb ...\n",
            "Unpacking cuda-opencl-dev-12-5 (12.5.39-1) ...\n",
            "Selecting previously unselected package libcublas-dev-12-5.\n",
            "Preparing to unpack .../37-libcublas-dev-12-5_12.5.2.13-1_amd64.deb ...\n",
            "Unpacking libcublas-dev-12-5 (12.5.2.13-1) ...\n",
            "Selecting previously unselected package libcufft-dev-12-5.\n",
            "Preparing to unpack .../38-libcufft-dev-12-5_11.2.3.18-1_amd64.deb ...\n",
            "Unpacking libcufft-dev-12-5 (11.2.3.18-1) ...\n",
            "Selecting previously unselected package libcufile-dev-12-5.\n",
            "Preparing to unpack .../39-libcufile-dev-12-5_1.10.0.4-1_amd64.deb ...\n",
            "Unpacking libcufile-dev-12-5 (1.10.0.4-1) ...\n",
            "Selecting previously unselected package libcurand-dev-12-5.\n",
            "Preparing to unpack .../40-libcurand-dev-12-5_10.3.6.39-1_amd64.deb ...\n",
            "Unpacking libcurand-dev-12-5 (10.3.6.39-1) ...\n",
            "Selecting previously unselected package libcusolver-dev-12-5.\n",
            "Preparing to unpack .../41-libcusolver-dev-12-5_11.6.2.40-1_amd64.deb ...\n",
            "Unpacking libcusolver-dev-12-5 (11.6.2.40-1) ...\n",
            "Selecting previously unselected package libcusparse-dev-12-5.\n",
            "Preparing to unpack .../42-libcusparse-dev-12-5_12.4.1.24-1_amd64.deb ...\n",
            "Unpacking libcusparse-dev-12-5 (12.4.1.24-1) ...\n",
            "Selecting previously unselected package libnpp-dev-12-5.\n",
            "Preparing to unpack .../43-libnpp-dev-12-5_12.3.0.116-1_amd64.deb ...\n",
            "Unpacking libnpp-dev-12-5 (12.3.0.116-1) ...\n",
            "Selecting previously unselected package libnvjitlink-dev-12-5.\n",
            "Preparing to unpack .../44-libnvjitlink-dev-12-5_12.5.40-1_amd64.deb ...\n",
            "Unpacking libnvjitlink-dev-12-5 (12.5.40-1) ...\n",
            "Selecting previously unselected package libnvfatbin-dev-12-5.\n",
            "Preparing to unpack .../45-libnvfatbin-dev-12-5_12.5.39-1_amd64.deb ...\n",
            "Unpacking libnvfatbin-dev-12-5 (12.5.39-1) ...\n",
            "Selecting previously unselected package libnvjpeg-dev-12-5.\n",
            "Preparing to unpack .../46-libnvjpeg-dev-12-5_12.3.2.38-1_amd64.deb ...\n",
            "Unpacking libnvjpeg-dev-12-5 (12.3.2.38-1) ...\n",
            "Selecting previously unselected package cuda-libraries-dev-12-5.\n",
            "Preparing to unpack .../47-cuda-libraries-dev-12-5_12.5.0-1_amd64.deb ...\n",
            "Unpacking cuda-libraries-dev-12-5 (12.5.0-1) ...\n",
            "Selecting previously unselected package default-jre-headless.\n",
            "Preparing to unpack .../48-default-jre-headless_2%3a1.11-72build2_amd64.deb ...\n",
            "Unpacking default-jre-headless (2:1.11-72build2) ...\n",
            "Selecting previously unselected package libxtst6:amd64.\n",
            "Preparing to unpack .../49-libxtst6_2%3a1.2.3-1build4_amd64.deb ...\n",
            "Unpacking libxtst6:amd64 (2:1.2.3-1build4) ...\n",
            "Selecting previously unselected package openjdk-11-jre:amd64.\n",
            "Preparing to unpack .../50-openjdk-11-jre_11.0.22+7-0ubuntu2~22.04.1_amd64.deb ...\n",
            "Unpacking openjdk-11-jre:amd64 (11.0.22+7-0ubuntu2~22.04.1) ...\n",
            "Selecting previously unselected package default-jre.\n",
            "Preparing to unpack .../51-default-jre_2%3a1.11-72build2_amd64.deb ...\n",
            "Unpacking default-jre (2:1.11-72build2) ...\n",
            "Selecting previously unselected package cuda-nsight-12-5.\n",
            "Preparing to unpack .../52-cuda-nsight-12-5_12.5.39-1_amd64.deb ...\n",
            "Unpacking cuda-nsight-12-5 (12.5.39-1) ...\n",
            "Selecting previously unselected package nsight-compute-2024.2.0.\n",
            "Preparing to unpack .../53-nsight-compute-2024.2.0_2024.2.0.16-1_amd64.deb ...\n",
            "Unpacking nsight-compute-2024.2.0 (2024.2.0.16-1) ...\n",
            "Selecting previously unselected package cuda-nsight-compute-12-5.\n",
            "Preparing to unpack .../54-cuda-nsight-compute-12-5_12.5.0-1_amd64.deb ...\n",
            "Unpacking cuda-nsight-compute-12-5 (12.5.0-1) ...\n",
            "Selecting previously unselected package libxcb-xinerama0:amd64.\n",
            "Preparing to unpack .../55-libxcb-xinerama0_1.14-3ubuntu3_amd64.deb ...\n",
            "Unpacking libxcb-xinerama0:amd64 (1.14-3ubuntu3) ...\n",
            "Selecting previously unselected package libxcb-icccm4:amd64.\n",
            "Preparing to unpack .../56-libxcb-icccm4_0.4.1-1.1build2_amd64.deb ...\n",
            "Unpacking libxcb-icccm4:amd64 (0.4.1-1.1build2) ...\n",
            "Selecting previously unselected package libxcb-util1:amd64.\n",
            "Preparing to unpack .../57-libxcb-util1_0.4.0-1build2_amd64.deb ...\n",
            "Unpacking libxcb-util1:amd64 (0.4.0-1build2) ...\n",
            "Selecting previously unselected package libxcb-image0:amd64.\n",
            "Preparing to unpack .../58-libxcb-image0_0.4.0-2_amd64.deb ...\n",
            "Unpacking libxcb-image0:amd64 (0.4.0-2) ...\n",
            "Selecting previously unselected package libxcb-keysyms1:amd64.\n",
            "Preparing to unpack .../59-libxcb-keysyms1_0.4.0-1build3_amd64.deb ...\n",
            "Unpacking libxcb-keysyms1:amd64 (0.4.0-1build3) ...\n",
            "Selecting previously unselected package libxcb-render-util0:amd64.\n",
            "Preparing to unpack .../60-libxcb-render-util0_0.3.9-1build3_amd64.deb ...\n",
            "Unpacking libxcb-render-util0:amd64 (0.3.9-1build3) ...\n",
            "Selecting previously unselected package libxcb-xkb1:amd64.\n",
            "Preparing to unpack .../61-libxcb-xkb1_1.14-3ubuntu3_amd64.deb ...\n",
            "Unpacking libxcb-xkb1:amd64 (1.14-3ubuntu3) ...\n",
            "Selecting previously unselected package libxkbcommon-x11-0:amd64.\n",
            "Preparing to unpack .../62-libxkbcommon-x11-0_1.4.0-1_amd64.deb ...\n",
            "Unpacking libxkbcommon-x11-0:amd64 (1.4.0-1) ...\n",
            "Selecting previously unselected package libxcb-xinput0:amd64.\n",
            "Preparing to unpack .../63-libxcb-xinput0_1.14-3ubuntu3_amd64.deb ...\n",
            "Unpacking libxcb-xinput0:amd64 (1.14-3ubuntu3) ...\n",
            "Selecting previously unselected package libxcb-cursor0:amd64.\n",
            "Preparing to unpack .../64-libxcb-cursor0_0.1.1-4ubuntu1_amd64.deb ...\n",
            "Unpacking libxcb-cursor0:amd64 (0.1.1-4ubuntu1) ...\n",
            "Selecting previously unselected package nsight-systems-2024.2.3.\n",
            "Preparing to unpack .../65-nsight-systems-2024.2.3_2024.2.3.38-1_amd64.deb ...\n",
            "Unpacking nsight-systems-2024.2.3 (2024.2.3.38-242334140272v0) ...\n",
            "Selecting previously unselected package cuda-nsight-systems-12-5.\n",
            "Preparing to unpack .../66-cuda-nsight-systems-12-5_12.5.0-1_amd64.deb ...\n",
            "Unpacking cuda-nsight-systems-12-5 (12.5.0-1) ...\n",
            "Selecting previously unselected package cuda-nvml-dev-12-5.\n",
            "Preparing to unpack .../67-cuda-nvml-dev-12-5_12.5.39-1_amd64.deb ...\n",
            "Unpacking cuda-nvml-dev-12-5 (12.5.39-1) ...\n",
            "Selecting previously unselected package cuda-nvvp-12-5.\n",
            "Preparing to unpack .../68-cuda-nvvp-12-5_12.5.39-1_amd64.deb ...\n",
            "Unpacking cuda-nvvp-12-5 (12.5.39-1) ...\n",
            "Selecting previously unselected package cuda-visual-tools-12-5.\n",
            "Preparing to unpack .../69-cuda-visual-tools-12-5_12.5.0-1_amd64.deb ...\n",
            "Unpacking cuda-visual-tools-12-5 (12.5.0-1) ...\n",
            "Selecting previously unselected package gds-tools-12-5.\n",
            "Preparing to unpack .../70-gds-tools-12-5_1.10.0.4-1_amd64.deb ...\n",
            "Unpacking gds-tools-12-5 (1.10.0.4-1) ...\n",
            "Selecting previously unselected package cuda-tools-12-5.\n",
            "Preparing to unpack .../71-cuda-tools-12-5_12.5.0-1_amd64.deb ...\n",
            "Unpacking cuda-tools-12-5 (12.5.0-1) ...\n",
            "Selecting previously unselected package cuda-toolkit-12-5.\n",
            "Preparing to unpack .../72-cuda-toolkit-12-5_12.5.0-1_amd64.deb ...\n",
            "Unpacking cuda-toolkit-12-5 (12.5.0-1) ...\n",
            "Selecting previously unselected package fonts-dejavu-core.\n",
            "Preparing to unpack .../73-fonts-dejavu-core_2.37-2build1_all.deb ...\n",
            "Unpacking fonts-dejavu-core (2.37-2build1) ...\n",
            "Selecting previously unselected package fonts-dejavu-extra.\n",
            "Preparing to unpack .../74-fonts-dejavu-extra_2.37-2build1_all.deb ...\n",
            "Unpacking fonts-dejavu-extra (2.37-2build1) ...\n",
            "Selecting previously unselected package libfontenc1:amd64.\n",
            "Preparing to unpack .../75-libfontenc1_1%3a1.1.4-1build3_amd64.deb ...\n",
            "Unpacking libfontenc1:amd64 (1:1.1.4-1build3) ...\n",
            "Selecting previously unselected package libxkbfile1:amd64.\n",
            "Preparing to unpack .../76-libxkbfile1_1%3a1.1.0-1build3_amd64.deb ...\n",
            "Unpacking libxkbfile1:amd64 (1:1.1.0-1build3) ...\n",
            "Selecting previously unselected package libxxf86dga1:amd64.\n",
            "Preparing to unpack .../77-libxxf86dga1_2%3a1.1.5-0ubuntu3_amd64.deb ...\n",
            "Unpacking libxxf86dga1:amd64 (2:1.1.5-0ubuntu3) ...\n",
            "Selecting previously unselected package x11-utils.\n",
            "Preparing to unpack .../78-x11-utils_7.7+5build2_amd64.deb ...\n",
            "Unpacking x11-utils (7.7+5build2) ...\n",
            "Selecting previously unselected package libatk-wrapper-java.\n",
            "Preparing to unpack .../79-libatk-wrapper-java_0.38.0-5build1_all.deb ...\n",
            "Unpacking libatk-wrapper-java (0.38.0-5build1) ...\n",
            "Selecting previously unselected package libatk-wrapper-java-jni:amd64.\n",
            "Preparing to unpack .../80-libatk-wrapper-java-jni_0.38.0-5build1_amd64.deb ...\n",
            "Unpacking libatk-wrapper-java-jni:amd64 (0.38.0-5build1) ...\n",
            "Setting up cuda-nvml-dev-12-5 (12.5.39-1) ...\n",
            "Setting up cuda-toolkit-12-5-config-common (12.5.39-1) ...\n",
            "Setting alternatives\n",
            "update-alternatives: using /usr/local/cuda-12.5 to provide /usr/local/cuda (cuda) in auto mode\n",
            "update-alternatives: using /usr/local/cuda-12.5 to provide /usr/local/cuda-12 (cuda-12) in auto mode\n",
            "Setting up cuda-cccl-12-5 (12.5.39-1) ...\n",
            "Setting up default-jre-headless (2:1.11-72build2) ...\n",
            "Setting up libxcb-xinput0:amd64 (1.14-3ubuntu3) ...\n",
            "Setting up libcufft-12-5 (11.2.3.18-1) ...\n",
            "Setting up libxtst6:amd64 (2:1.2.3-1build4) ...\n",
            "Setting up libcublas-12-5 (12.5.2.13-1) ...\n",
            "Setting up libxcb-keysyms1:amd64 (0.4.0-1build3) ...\n",
            "Setting up gds-tools-12-5 (1.10.0.4-1) ...\n",
            "Setting up libxxf86dga1:amd64 (2:1.1.5-0ubuntu3) ...\n",
            "Setting up libcusparse-12-5 (12.4.1.24-1) ...\n",
            "Setting up cuda-documentation-12-5 (12.5.39-1) ...\n",
            "Setting up libxcb-render-util0:amd64 (0.3.9-1build3) ...\n",
            "Setting up openjdk-11-jre:amd64 (11.0.22+7-0ubuntu2~22.04.1) ...\n",
            "Setting up cuda-nvdisasm-12-5 (12.5.39-1) ...\n",
            "Setting up libxcb-icccm4:amd64 (0.4.1-1.1build2) ...\n",
            "Setting up default-jre (2:1.11-72build2) ...\n",
            "Setting up cuda-nvvp-12-5 (12.5.39-1) ...\n",
            "Setting up libnvfatbin-12-5 (12.5.39-1) ...\n",
            "Setting up cuda-nvvm-12-5 (12.5.40-1) ...\n",
            "Setting up libnvjpeg-12-5 (12.3.2.38-1) ...\n",
            "Setting up libxcb-util1:amd64 (0.4.0-1build2) ...\n",
            "Setting up cuda-profiler-api-12-5 (12.5.39-1) ...\n",
            "Setting up libxcb-xkb1:amd64 (1.14-3ubuntu3) ...\n",
            "Setting up libxcb-image0:amd64 (0.4.0-2) ...\n",
            "Setting up libcufile-12-5 (1.10.0.4-1) ...\n",
            "Setting alternatives\n",
            "update-alternatives: using /usr/local/cuda-12.5/gds/cufile.json to provide /etc/cufile.json (cufile.json) in auto mode\n",
            "Setting up libfontenc1:amd64 (1:1.1.4-1build3) ...\n",
            "Setting up cuda-opencl-12-5 (12.5.39-1) ...\n",
            "Setting up libxcb-xinerama0:amd64 (1.14-3ubuntu3) ...\n",
            "Setting up cuda-cuxxfilt-12-5 (12.5.39-1) ...\n",
            "Setting up libcusparse-dev-12-5 (12.4.1.24-1) ...\n",
            "Setting up cuda-nvprune-12-5 (12.5.39-1) ...\n",
            "Setting up libxcb-cursor0:amd64 (0.1.1-4ubuntu1) ...\n",
            "Setting up libcublas-dev-12-5 (12.5.2.13-1) ...\n",
            "Setting up cuda-cudart-12-5 (12.5.39-1) ...\n",
            "Setting up libxkbcommon-x11-0:amd64 (1.4.0-1) ...\n",
            "Setting up cuda-nvtx-12-5 (12.5.39-1) ...\n",
            "Setting up cuda-nsight-12-5 (12.5.39-1) ...\n",
            "Setting up fonts-dejavu-core (2.37-2build1) ...\n",
            "Setting up cuda-nvprof-12-5 (12.5.39-1) ...\n",
            "Setting up fonts-dejavu-extra (2.37-2build1) ...\n",
            "Setting up cuda-driver-dev-12-5 (12.5.39-1) ...\n",
            "Setting up cuda-cuobjdump-12-5 (12.5.39-1) ...\n",
            "Setting up libxkbfile1:amd64 (1:1.1.0-1build3) ...\n",
            "Setting up cuda-nvrtc-12-5 (12.5.40-1) ...\n",
            "Setting up cuda-sanitizer-12-5 (12.5.39-1) ...\n",
            "Setting up nsight-compute-2024.2.0 (2024.2.0.16-1) ...\n",
            "Setting up libcusolver-12-5 (11.6.2.40-1) ...\n",
            "Setting up libcufft-dev-12-5 (11.2.3.18-1) ...\n",
            "Setting up cuda-cupti-12-5 (12.5.39-1) ...\n",
            "Setting up libnpp-12-5 (12.3.0.116-1) ...\n",
            "Setting up nsight-systems-2024.2.3 (2024.2.3.38-242334140272v0) ...\n",
            "update-alternatives: using /opt/nvidia/nsight-systems/2024.2.3/target-linux-x64/nsys to provide /usr/local/bin/nsys (nsys) in auto mode\n",
            "update-alternatives: using /opt/nvidia/nsight-systems/2024.2.3/host-linux-x64/nsys-ui to provide /usr/local/bin/nsys-ui (nsys-ui) in auto mode\n",
            "Setting up cuda-opencl-dev-12-5 (12.5.39-1) ...\n",
            "Setting up libnvjitlink-12-5 (12.5.40-1) ...\n",
            "Setting up cuda-nsight-systems-12-5 (12.5.0-1) ...\n",
            "Setting up libnvfatbin-dev-12-5 (12.5.39-1) ...\n",
            "Setting up libcurand-12-5 (10.3.6.39-1) ...\n",
            "Setting up libcusolver-dev-12-5 (11.6.2.40-1) ...\n",
            "Setting up cuda-cupti-dev-12-5 (12.5.39-1) ...\n",
            "Setting up cuda-cudart-dev-12-5 (12.5.39-1) ...\n",
            "Setting up cuda-crt-12-5 (12.5.40-1) ...\n",
            "Setting up libnvjpeg-dev-12-5 (12.3.2.38-1) ...\n",
            "Setting up libnvjitlink-dev-12-5 (12.5.40-1) ...\n",
            "Setting up libcufile-dev-12-5 (1.10.0.4-1) ...\n",
            "Setting up cuda-nsight-compute-12-5 (12.5.0-1) ...\n",
            "Setting up libnpp-dev-12-5 (12.3.0.116-1) ...\n",
            "Setting up libcurand-dev-12-5 (10.3.6.39-1) ...\n",
            "Setting up cuda-nvrtc-dev-12-5 (12.5.40-1) ...\n",
            "Setting up cuda-gdb-12-5 (12.5.39-1) ...\n",
            "Setting up cuda-nvcc-12-5 (12.5.40-1) ...\n",
            "Setting up x11-utils (7.7+5build2) ...\n",
            "Setting up cuda-libraries-12-5 (12.5.0-1) ...\n",
            "Setting up libatk-wrapper-java (0.38.0-5build1) ...\n",
            "Setting up cuda-command-line-tools-12-5 (12.5.0-1) ...\n",
            "Setting up cuda-libraries-dev-12-5 (12.5.0-1) ...\n",
            "Setting up libatk-wrapper-java-jni:amd64 (0.38.0-5build1) ...\n",
            "Setting up cuda-compiler-12-5 (12.5.0-1) ...\n",
            "Setting up cuda-visual-tools-12-5 (12.5.0-1) ...\n",
            "Setting up cuda-tools-12-5 (12.5.0-1) ...\n",
            "Setting up cuda-toolkit-12-5 (12.5.0-1) ...\n",
            "Processing triggers for hicolor-icon-theme (0.17-2) ...\n",
            "Processing triggers for libc-bin (2.35-0ubuntu3.4) ...\n",
            "/sbin/ldconfig.real: /usr/local/lib/libtbb.so.12 is not a symbolic link\n",
            "\n",
            "/sbin/ldconfig.real: /usr/local/lib/libtbbbind_2_0.so.3 is not a symbolic link\n",
            "\n",
            "/sbin/ldconfig.real: /usr/local/lib/libtbbmalloc_proxy.so.2 is not a symbolic link\n",
            "\n",
            "/sbin/ldconfig.real: /usr/local/lib/libtbbbind.so.3 is not a symbolic link\n",
            "\n",
            "/sbin/ldconfig.real: /usr/local/lib/libtbbmalloc.so.2 is not a symbolic link\n",
            "\n",
            "/sbin/ldconfig.real: /usr/local/lib/libtbbbind_2_5.so.3 is not a symbolic link\n",
            "\n",
            "Processing triggers for man-db (2.10.2-1) ...\n",
            "Processing triggers for fontconfig (2.13.1-4.2ubuntu5) ...\n"
          ]
        }
      ],
      "source": [
        "!wget https://developer.download.nvidia.com/compute/cuda/repos/ubuntu2204/x86_64/cuda-ubuntu2204.pin\n",
        "!sudo mv cuda-ubuntu2204.pin /etc/apt/preferences.d/cuda-repository-pin-600\n",
        "!wget https://developer.download.nvidia.com/compute/cuda/12.5.0/local_installers/cuda-repo-ubuntu2204-12-5-local_12.5.0-555.42.02-1_amd64.deb\n",
        "!sudo dpkg -i cuda-repo-ubuntu2204-12-5-local_12.5.0-555.42.02-1_amd64.deb\n",
        "!sudo cp /var/cuda-repo-ubuntu2204-12-5-local/cuda-*-keyring.gpg /usr/share/keyrings/\n",
        "!sudo apt-get update\n",
        "!sudo apt-get -y install cuda-toolkit-12-5"
      ]
    },
    {
      "cell_type": "code",
      "execution_count": 1,
      "metadata": {
        "colab": {
          "base_uri": "https://localhost:8080/"
        },
        "id": "uILEWVo8uz41",
        "outputId": "b014d8ae-9ef6-4eda-91a1-db0ae54441d0"
      },
      "outputs": [
        {
          "output_type": "stream",
          "name": "stdout",
          "text": [
            "nvcc: NVIDIA (R) Cuda compiler driver\n",
            "Copyright (c) 2005-2023 NVIDIA Corporation\n",
            "Built on Tue_Aug_15_22:02:13_PDT_2023\n",
            "Cuda compilation tools, release 12.2, V12.2.140\n",
            "Build cuda_12.2.r12.2/compiler.33191640_0\n"
          ]
        }
      ],
      "source": [
        "#After refresh the cuda framework, check version info\n",
        "\n",
        "!nvcc --version"
      ]
    },
    {
      "cell_type": "markdown",
      "metadata": {
        "id": "Tkmrdk_tmuug"
      },
      "source": [
        "# 使用Google Colab寫 cuda c++ 程式並運行"
      ]
    },
    {
      "cell_type": "markdown",
      "metadata": {
        "id": "prUP20qzm2S0"
      },
      "source": [
        "set your runtime to cuda by click \"runtime\" -> \"change runtime type\" in above toolbar, and select T4 GPU.\n",
        "\n",
        "First, you have to install nvcc plugin for cuda compiler"
      ]
    },
    {
      "cell_type": "code",
      "execution_count": 3,
      "metadata": {
        "colab": {
          "base_uri": "https://localhost:8080/"
        },
        "id": "AruXtVyMnEH1",
        "outputId": "fc20b2d5-0ccb-4aba-fe12-f3091acb6cd7"
      },
      "outputs": [
        {
          "output_type": "stream",
          "name": "stdout",
          "text": [
            "Collecting nvcc4jupyter\n",
            "  Downloading nvcc4jupyter-1.2.1-py3-none-any.whl (10 kB)\n",
            "Installing collected packages: nvcc4jupyter\n",
            "Successfully installed nvcc4jupyter-1.2.1\n"
          ]
        }
      ],
      "source": [
        "!pip install nvcc4jupyter"
      ]
    },
    {
      "cell_type": "markdown",
      "metadata": {
        "id": "aRhcZ8t-n-zI"
      },
      "source": [
        "then, Load the plugin\n",
        "\n"
      ]
    },
    {
      "cell_type": "code",
      "execution_count": 4,
      "metadata": {
        "colab": {
          "base_uri": "https://localhost:8080/"
        },
        "id": "K2rmueJ_oBV1",
        "outputId": "e59ec9ba-4653-44ed-efd0-5d8f52464829"
      },
      "outputs": [
        {
          "output_type": "stream",
          "name": "stdout",
          "text": [
            "Detected platform \"Colab\". Running its setup...\n",
            "Source files will be saved in \"/tmp/tmpvfmkalah\".\n"
          ]
        }
      ],
      "source": [
        "%load_ext nvcc4jupyter"
      ]
    },
    {
      "cell_type": "code",
      "source": [
        "%%cuda_group_save -n demo.cu -g share\n",
        "\n",
        "#include <cstdio>\n",
        "#include <iostream>\n",
        "\n",
        "#define Debug false\n",
        "\n",
        "using namespace std;\n",
        "\n",
        "void rand(int *a, int n){\n",
        "  for (int i = 0; i < n; i++) {\n",
        "\t\ta[i] = rand() % n;\n",
        "\t\tcout << a[i] << \"\\t\";\n",
        "\t}\n",
        "  cout << \"\\n\";\n",
        "}\n",
        "\n",
        "__global__ void vecadd_kernel (int *a, int *b, int *c, int n ) {\n",
        "  int i = threadIdx.x ; // Calculate my index\n",
        "  if (i < n ) {  // Protect against out of bounds error\n",
        "      if(Debug) printf(\"calling threadIdx.x: %d, \\n\", i);\n",
        "      if(Debug) printf(\"a value: %d, \\t\", a[i]);\n",
        "      if(Debug) printf(\"b value: %d, \\t\", b[i]);\n",
        "      c[i] = a[i] + b[i];\n",
        "      if(Debug) printf(\"c value: %d, \\t\", c[i]);\n",
        "  }\n",
        "}\n",
        "\n",
        "void cpuadd (int *a, int *b, int *c, int n ) {\n",
        "  for (int i=0; i<n; i++)\n",
        "    {\n",
        "        c[i] = a[i] + b[i];\n",
        "    }\n",
        "}\n",
        "\n",
        "\n",
        "void gpuadd (int *a, int *b, int *c, int n ) {\n",
        "  int *d_a , *d_b , *d_c;\n",
        "  cudaMalloc(&d_a, n*sizeof(int));\n",
        "  cudaMalloc(&d_b, n*sizeof(int));\n",
        "  cudaMalloc(&d_c, n*sizeof(int));\n",
        "  cudaMemcpy(d_a, a, n*sizeof(int), cudaMemcpyHostToDevice);\n",
        "  cudaMemcpy(d_b, b, n*sizeof(int), cudaMemcpyHostToDevice);\n",
        "  vecadd_kernel<<<1,n>>>(d_a, d_b, d_c, n);\n",
        "  cudaDeviceSynchronize();\n",
        "  cudaMemcpy(c, d_c, n*sizeof(int), cudaMemcpyDeviceToHost);\n",
        "  cudaFree(d_a);\n",
        "  cudaFree(d_b);\n",
        "  cudaFree(d_c);\n",
        "}\n",
        "\n",
        "\n",
        "int main(void) {\n",
        "\n",
        "  int N=1<<8;\n",
        "  int *a, *b, *c;\n",
        "  a = (int*)malloc(N*sizeof (int));\n",
        "  b = (int*)malloc(N*sizeof (int));\n",
        "  c = (int*)malloc(N*sizeof (int));\n",
        "\n",
        "  cout << \"a:\\t\";\n",
        "  rand(a, N);\n",
        "  cout << \"b:\\t\";\n",
        "  rand(b, N);\n",
        "\n",
        "  cout << \"\\n\\n@CPU, summing value... \\n\";\n",
        "\n",
        "  clock_t t;\n",
        "\n",
        "  // calling cpu\n",
        "  t=clock();//start time\n",
        "  cpuadd(a,b,c,N);\n",
        "  t = clock() - t;//total time = end time - start time\n",
        "\n",
        "\n",
        "  for (int i = 0; i < N; i++) {\n",
        "    cout << c[i] << \"\\t\";\n",
        "\t}\n",
        "  cout << \"\\n\";\n",
        "\n",
        "  printf (\"CPU Avg time = %lf ms.\\n\",((((float)t)/CLOCKS_PER_SEC)*1000));\n",
        "\n",
        "  // calling gpu\n",
        "  cout << \"\\n\\n@GPU, summing value... \\n\";\n",
        "\n",
        "  t=clock();//start time\n",
        "  gpuadd(a,b,c,N);\n",
        "  t = clock() - t;//total time = end time - start time\n",
        "\n",
        "\n",
        "  for (int i = 0; i < N; i++) {\n",
        "    cout << c[i] << \"\\t\";\n",
        "\t}\n",
        "  cout << \"\\n\";\n",
        "\n",
        "  printf (\"GPU Avg time = %lf ms.\\n\",((((float)t)/CLOCKS_PER_SEC)*1000));\n",
        "\n",
        "  free(a);\n",
        "  free(b);\n",
        "  free(c);\n",
        "\n",
        "  return 0;\n",
        "}"
      ],
      "metadata": {
        "id": "Kzce0fYeKb2i"
      },
      "execution_count": 63,
      "outputs": []
    },
    {
      "cell_type": "code",
      "source": [
        "%cuda_group_run -g \"share\""
      ],
      "metadata": {
        "colab": {
          "base_uri": "https://localhost:8080/"
        },
        "id": "_D-M3lvLK4hD",
        "outputId": "1c7cc57a-ddb2-4b47-9929-2dc9a91c1459"
      },
      "execution_count": 64,
      "outputs": [
        {
          "output_type": "stream",
          "name": "stdout",
          "text": [
            "a:\t103\t198\t105\t115\t81\t255\t74\t236\t41\t205\t186\t171\t242\t251\t227\t70\t124\t194\t84\t248\t27\t232\t231\t141\t118\t90\t46\t99\t51\t159\t201\t154\t102\t50\t13\t183\t49\t88\t163\t90\t37\t93\t5\t23\t88\t233\t94\t212\t171\t178\t205\t198\t155\t180\t84\t17\t14\t130\t116\t65\t33\t61\t220\t135\t112\t233\t62\t161\t65\t225\t252\t103\t62\t1\t126\t151\t234\t220\t107\t150\t143\t56\t92\t42\t236\t176\t59\t251\t50\t175\t60\t84\t236\t24\t219\t92\t2\t26\t254\t67\t251\t250\t170\t58\t251\t41\t209\t230\t5\t60\t124\t148\t117\t216\t190\t97\t137\t249\t92\t187\t168\t153\t15\t149\t177\t235\t241\t179\t5\t239\t247\t0\t233\t161\t58\t229\t202\t11\t203\t208\t72\t71\t100\t189\t31\t35\t30\t168\t28\t123\t100\t197\t20\t115\t90\t197\t94\t75\t121\t99\t59\t112\t100\t36\t17\t158\t9\t220\t170\t212\t172\t242\t27\t16\t175\t59\t51\t205\t227\t80\t72\t71\t21\t92\t187\t111\t34\t25\t186\t155\t125\t245\t11\t225\t26\t28\t127\t35\t248\t41\t248\t164\t27\t19\t181\t202\t78\t232\t152\t50\t56\t224\t121\t77\t61\t52\t188\t95\t78\t119\t250\t203\t108\t5\t172\t134\t33\t43\t170\t26\t85\t162\t190\t112\t181\t115\t59\t4\t92\t211\t54\t148\t179\t175\t226\t240\t228\t158\t79\t50\t21\t73\t253\t130\t78\t169\t\n",
            "b:\t8\t112\t212\t178\t138\t41\t84\t72\t154\t10\t188\t213\t14\t24\t168\t68\t172\t91\t243\t142\t76\t215\t45\t155\t9\t66\t229\t6\t196\t51\t175\t205\t163\t132\t127\t45\t173\t212\t118\t71\t222\t50\t28\t236\t74\t196\t48\t246\t32\t35\t133\t108\t251\t178\t7\t4\t244\t236\t11\t185\t32\t186\t134\t195\t62\t5\t241\t236\t217\t103\t51\t183\t153\t80\t163\t227\t20\t211\t217\t52\t247\t94\t160\t242\t16\t168\t246\t5\t148\t1\t190\t180\t188\t68\t120\t250\t73\t105\t230\t35\t208\t26\t218\t105\t106\t126\t76\t126\t81\t37\t179\t72\t132\t83\t58\t148\t251\t49\t153\t144\t50\t87\t68\t238\t155\t188\t233\t229\t37\t207\t8\t245\t233\t226\t94\t83\t96\t170\t210\t178\t208\t133\t250\t84\t216\t53\t232\t212\t102\t130\t100\t152\t217\t168\t135\t117\t101\t112\t90\t138\t63\t98\t128\t41\t68\t222\t124\t165\t137\t78\t87\t89\t211\t81\t173\t172\t134\t149\t128\t236\t23\t228\t133\t241\t140\t12\t102\t241\t124\t192\t124\t187\t34\t252\t228\t102\t218\t97\t11\t99\t175\t98\t188\t131\t180\t105\t47\t58\t255\t175\t39\t22\t147\t172\t7\t31\t184\t109\t17\t52\t45\t141\t239\t79\t137\t212\t182\t99\t53\t193\t199\t228\t36\t131\t103\t216\t237\t150\t18\t236\t69\t57\t2\t216\t229\t10\t248\t157\t119\t9\t209\t165\t150\t193\t244\t31\t\n",
            "\n",
            "\n",
            "@CPU, summing value... \n",
            "111\t310\t317\t293\t219\t296\t158\t308\t195\t215\t374\t384\t256\t275\t395\t138\t296\t285\t327\t390\t103\t447\t276\t296\t127\t156\t275\t105\t247\t210\t376\t359\t265\t182\t140\t228\t222\t300\t281\t161\t259\t143\t33\t259\t162\t429\t142\t458\t203\t213\t338\t306\t406\t358\t91\t21\t258\t366\t127\t250\t65\t247\t354\t330\t174\t238\t303\t397\t282\t328\t303\t286\t215\t81\t289\t378\t254\t431\t324\t202\t390\t150\t252\t284\t252\t344\t305\t256\t198\t176\t250\t264\t424\t92\t339\t342\t75\t131\t484\t102\t459\t276\t388\t163\t357\t167\t285\t356\t86\t97\t303\t220\t249\t299\t248\t245\t388\t298\t245\t331\t218\t240\t83\t387\t332\t423\t474\t408\t42\t446\t255\t245\t466\t387\t152\t312\t298\t181\t413\t386\t280\t204\t350\t273\t247\t88\t262\t380\t130\t253\t200\t349\t237\t283\t225\t314\t195\t187\t211\t237\t122\t210\t228\t77\t85\t380\t133\t385\t307\t290\t259\t331\t238\t97\t348\t231\t185\t354\t355\t316\t95\t299\t154\t333\t327\t123\t136\t266\t310\t347\t249\t432\t45\t477\t254\t130\t345\t132\t259\t140\t423\t262\t215\t150\t361\t307\t125\t290\t407\t225\t95\t246\t268\t249\t68\t83\t372\t204\t95\t171\t295\t344\t347\t84\t309\t346\t215\t142\t223\t219\t284\t390\t226\t243\t284\t331\t296\t154\t110\t447\t123\t205\t181\t391\t455\t250\t476\t315\t198\t59\t230\t238\t403\t323\t322\t200\t\n",
            "CPU Avg time = 0.002000 ms.\n",
            "\n",
            "\n",
            "@GPU, summing value... \n",
            "111\t310\t317\t293\t219\t296\t158\t308\t195\t215\t374\t384\t256\t275\t395\t138\t296\t285\t327\t390\t103\t447\t276\t296\t127\t156\t275\t105\t247\t210\t376\t359\t265\t182\t140\t228\t222\t300\t281\t161\t259\t143\t33\t259\t162\t429\t142\t458\t203\t213\t338\t306\t406\t358\t91\t21\t258\t366\t127\t250\t65\t247\t354\t330\t174\t238\t303\t397\t282\t328\t303\t286\t215\t81\t289\t378\t254\t431\t324\t202\t390\t150\t252\t284\t252\t344\t305\t256\t198\t176\t250\t264\t424\t92\t339\t342\t75\t131\t484\t102\t459\t276\t388\t163\t357\t167\t285\t356\t86\t97\t303\t220\t249\t299\t248\t245\t388\t298\t245\t331\t218\t240\t83\t387\t332\t423\t474\t408\t42\t446\t255\t245\t466\t387\t152\t312\t298\t181\t413\t386\t280\t204\t350\t273\t247\t88\t262\t380\t130\t253\t200\t349\t237\t283\t225\t314\t195\t187\t211\t237\t122\t210\t228\t77\t85\t380\t133\t385\t307\t290\t259\t331\t238\t97\t348\t231\t185\t354\t355\t316\t95\t299\t154\t333\t327\t123\t136\t266\t310\t347\t249\t432\t45\t477\t254\t130\t345\t132\t259\t140\t423\t262\t215\t150\t361\t307\t125\t290\t407\t225\t95\t246\t268\t249\t68\t83\t372\t204\t95\t171\t295\t344\t347\t84\t309\t346\t215\t142\t223\t219\t284\t390\t226\t243\t284\t331\t296\t154\t110\t447\t123\t205\t181\t391\t455\t250\t476\t315\t198\t59\t230\t238\t403\t323\t322\t200\t\n",
            "GPU Avg time = 185.868988 ms.\n",
            "\n"
          ]
        }
      ]
    },
    {
      "cell_type": "markdown",
      "metadata": {
        "id": "6150OOlBonFA"
      },
      "source": [
        "Cuda hellow world program, check this for tool syntax\n",
        "https://nvcc4jupyter.readthedocs.io/en/latest/magics.html#cuda-magic\n",
        "\n",
        "example\n",
        "%%cuda_group_save -n <FILENAME> -g <GROUPNAME>: Save the code in the current cell to a group of source files."
      ]
    },
    {
      "cell_type": "code",
      "execution_count": null,
      "metadata": {
        "id": "wNwaxrHSoqnf"
      },
      "outputs": [],
      "source": [
        "%%cuda_group_save -n demo.cu -g share\n",
        "\n",
        "#include <cstdio>\n",
        "#include <iostream>\n",
        "\n",
        "using namespace std;\n",
        "\n",
        "#define N 64\n",
        "\n",
        "__global__ void maxi(int* a, int* b, int n)\n",
        "{\n",
        "\tint block = 256 * blockIdx.x;\n",
        "\tint max = 0;\n",
        "\n",
        "\tfor (int i = block; i < min(256 + block, n); i++) {\n",
        "\n",
        "\t\tif (max < a[i]) {\n",
        "\t\t\tmax = a[i];\n",
        "\t\t}\n",
        "\t}\n",
        "\tb[blockIdx.x] = max;\n",
        "}\n",
        "\n",
        "int main()\n",
        "{\n",
        "\n",
        "\tint a[N];\n",
        "\n",
        "  cout << N << \"\\n\";\n",
        "\tfor (int i = 0; i < N; i++) {\n",
        "\t\ta[i] = rand() % N;\n",
        "\t\t# output for debugg the a array\n",
        "\t\t# cout << a[i] << \"\\t\";\n",
        "\t}\n",
        "\n",
        "\tcudaEvent_t start, end;\n",
        "\tint *ad, *bd;\n",
        "\tint size = N * sizeof(int);\n",
        "\tcudaMalloc(&ad, size);\n",
        "\tcudaMemcpy(ad, a, size, cudaMemcpyHostToDevice);\n",
        "\tint grids = ceil(N * 1.0f / 16.0f);\n",
        "\tcudaMalloc(&bd, grids * sizeof(int));\n",
        "\n",
        "\tdim3 grid(grids, 1);\n",
        "\tdim3 block(4, 4);\n",
        "\n",
        "\tcudaEventCreate(&start);\n",
        "\tcudaEventCreate(&end);\n",
        "\tcudaEventRecord(start);\n",
        "\n",
        "\twhile (N > 1) {\n",
        "\t\tmaxi<<<grids, block>>>(ad, bd, N);\n",
        "\t\tN = ceil(N * 1.0f / 16.0f);\n",
        "\t\tcudaMemcpy(ad, bd, n * sizeof(int), cudaMemcpyDeviceToDevice);\n",
        "\t}\n",
        "\n",
        "\tcudaEventRecord(end);\n",
        "\tcudaEventSynchronize(end);\n",
        "\n",
        "\tfloat time = 0;\n",
        "\tcudaEventElapsedTime(&time, start, end);\n",
        "\n",
        "\tint ans[2];\n",
        "\tcudaMemcpy(ans, ad, 4, cudaMemcpyDeviceToHost);\n",
        "\n",
        "\tcout << \"The maximum element is : \" << ans[0] << endl;\n",
        "\n",
        "\tcout << \"The time required : \";\n",
        "\tcout << time << endl;\n",
        "}\n"
      ]
    },
    {
      "cell_type": "code",
      "execution_count": null,
      "metadata": {
        "colab": {
          "base_uri": "https://localhost:8080/"
        },
        "id": "NhjgaS9wxrRO",
        "outputId": "83555d2f-2970-4045-b4e7-61d9dd8602ae"
      },
      "outputs": [
        {
          "output_type": "stream",
          "name": "stdout",
          "text": [
            "Hello, n\n"
          ]
        }
      ],
      "source": [
        "%cuda_group_run -g \"share\""
      ]
    },
    {
      "cell_type": "markdown",
      "metadata": {
        "id": "6O_VYSxgtfKW"
      },
      "source": []
    }
  ],
  "metadata": {
    "accelerator": "GPU",
    "colab": {
      "gpuType": "T4",
      "provenance": [],
      "collapsed_sections": [
        "-hxH1vx9kA8g"
      ],
      "include_colab_link": true
    },
    "kernelspec": {
      "display_name": "Python 3",
      "name": "python3"
    },
    "language_info": {
      "name": "python"
    }
  },
  "nbformat": 4,
  "nbformat_minor": 0
}