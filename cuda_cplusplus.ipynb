{
  "cells": [
    {
      "cell_type": "markdown",
      "metadata": {
        "id": "view-in-github",
        "colab_type": "text"
      },
      "source": [
        "<a href=\"https://colab.research.google.com/github/kt-chan/cuda-demo/blob/main/cuda_cplusplus.ipynb\" target=\"_parent\"><img src=\"https://colab.research.google.com/assets/colab-badge.svg\" alt=\"Open In Colab\"/></a>"
      ]
    },
    {
      "cell_type": "markdown",
      "metadata": {
        "id": "-hxH1vx9kA8g"
      },
      "source": [
        "# 使用Google Colab寫C++程式並運行"
      ]
    },
    {
      "cell_type": "markdown",
      "metadata": {
        "id": "zoFMIvx-kKi5"
      },
      "source": [
        "Create sample c++ code with %%writefile filename.cpp"
      ]
    },
    {
      "cell_type": "code",
      "execution_count": null,
      "metadata": {
        "id": "OK0fQaW4kHu6"
      },
      "outputs": [],
      "source": [
        "%%writefile demo.cpp\n",
        "\n",
        "#include <iostream>\n",
        "using namespace std;\n",
        "int main()\n",
        "{\n",
        "    string text = \"world2\";\n",
        "    cout << \"hello, \" + text;\n",
        "}"
      ]
    },
    {
      "cell_type": "markdown",
      "metadata": {
        "id": "DtYGbEoVkaFa"
      },
      "source": [
        "Compile the code with %%shell command"
      ]
    },
    {
      "cell_type": "code",
      "execution_count": null,
      "metadata": {
        "colab": {
          "base_uri": "https://localhost:8080/"
        },
        "id": "yl4tUf6nkdRm",
        "outputId": "fdc8fa6f-16f8-4b0c-cd21-db3ea9515626"
      },
      "outputs": [
        {
          "data": {
            "text/plain": []
          },
          "execution_count": 13,
          "metadata": {},
          "output_type": "execute_result"
        }
      ],
      "source": [
        "%%shell\n",
        "\n",
        "g++ demo.cpp -o demo"
      ]
    },
    {
      "cell_type": "markdown",
      "metadata": {
        "id": "hziN6Cn6kla_"
      },
      "source": [
        "Execution by just run it, with %%shell command."
      ]
    },
    {
      "cell_type": "code",
      "execution_count": null,
      "metadata": {
        "colab": {
          "base_uri": "https://localhost:8080/"
        },
        "id": "g6xM1r5Skkcl",
        "outputId": "7db344c6-b64f-4e31-8423-2c7e0f59c20f"
      },
      "outputs": [
        {
          "name": "stdout",
          "output_type": "stream",
          "text": [
            "Hello World!\n"
          ]
        },
        {
          "data": {
            "text/plain": []
          },
          "execution_count": 14,
          "metadata": {},
          "output_type": "execute_result"
        }
      ],
      "source": [
        "%%shell\n",
        "./demo"
      ]
    },
    {
      "cell_type": "code",
      "execution_count": null,
      "metadata": {
        "id": "DoOTaMUckvVH"
      },
      "outputs": [],
      "source": []
    },
    {
      "cell_type": "markdown",
      "metadata": {
        "id": "5Svv4POytgLu"
      },
      "source": [
        "# 配置 CUDA Environment"
      ]
    },
    {
      "cell_type": "code",
      "execution_count": null,
      "metadata": {
        "colab": {
          "base_uri": "https://localhost:8080/"
        },
        "id": "LeBPLY2jsBB8",
        "outputId": "34f7c8f1-c9f5-4b84-b4c3-ce787626c604"
      },
      "outputs": [
        {
          "name": "stdout",
          "output_type": "stream",
          "text": [
            "Thu May 23 04:01:29 2024       \n",
            "+---------------------------------------------------------------------------------------+\n",
            "| NVIDIA-SMI 535.104.05             Driver Version: 535.104.05   CUDA Version: 12.2     |\n",
            "|-----------------------------------------+----------------------+----------------------+\n",
            "| GPU  Name                 Persistence-M | Bus-Id        Disp.A | Volatile Uncorr. ECC |\n",
            "| Fan  Temp   Perf          Pwr:Usage/Cap |         Memory-Usage | GPU-Util  Compute M. |\n",
            "|                                         |                      |               MIG M. |\n",
            "|=========================================+======================+======================|\n",
            "|   0  Tesla T4                       Off | 00000000:00:04.0 Off |                    0 |\n",
            "| N/A   62C    P8              12W /  70W |      0MiB / 15360MiB |      0%      Default |\n",
            "|                                         |                      |                  N/A |\n",
            "+-----------------------------------------+----------------------+----------------------+\n",
            "                                                                                         \n",
            "+---------------------------------------------------------------------------------------+\n",
            "| Processes:                                                                            |\n",
            "|  GPU   GI   CI        PID   Type   Process name                            GPU Memory |\n",
            "|        ID   ID                                                             Usage      |\n",
            "|=======================================================================================|\n",
            "|  No running processes found                                                           |\n",
            "+---------------------------------------------------------------------------------------+\n"
          ]
        }
      ],
      "source": [
        "# check nvidia card info\n",
        "!nvidia-smi"
      ]
    },
    {
      "cell_type": "code",
      "execution_count": null,
      "metadata": {
        "colab": {
          "base_uri": "https://localhost:8080/"
        },
        "id": "Jsym_6pxsmd1",
        "outputId": "ba7e0a99-9ec3-4be4-c446-f7212dfdd758"
      },
      "outputs": [
        {
          "name": "stdout",
          "output_type": "stream",
          "text": [
            "DISTRIB_ID=Ubuntu\n",
            "DISTRIB_RELEASE=22.04\n",
            "DISTRIB_CODENAME=jammy\n",
            "DISTRIB_DESCRIPTION=\"Ubuntu 22.04.3 LTS\"\n",
            "PRETTY_NAME=\"Ubuntu 22.04.3 LTS\"\n",
            "NAME=\"Ubuntu\"\n",
            "VERSION_ID=\"22.04\"\n",
            "VERSION=\"22.04.3 LTS (Jammy Jellyfish)\"\n",
            "VERSION_CODENAME=jammy\n",
            "ID=ubuntu\n",
            "ID_LIKE=debian\n",
            "HOME_URL=\"https://www.ubuntu.com/\"\n",
            "SUPPORT_URL=\"https://help.ubuntu.com/\"\n",
            "BUG_REPORT_URL=\"https://bugs.launchpad.net/ubuntu/\"\n",
            "PRIVACY_POLICY_URL=\"https://www.ubuntu.com/legal/terms-and-policies/privacy-policy\"\n",
            "UBUNTU_CODENAME=jammy\n"
          ]
        }
      ],
      "source": [
        "# check os info\n",
        "!cat /etc/*release"
      ]
    },
    {
      "cell_type": "code",
      "execution_count": null,
      "metadata": {
        "colab": {
          "base_uri": "https://localhost:8080/"
        },
        "id": "NoNkF4uZwmLs",
        "outputId": "3f7d13a4-ca77-441e-ffb8-c3ab9015161f"
      },
      "outputs": [
        {
          "name": "stdout",
          "output_type": "stream",
          "text": [
            "/content\n"
          ]
        }
      ],
      "source": [
        "#get current working directory\n",
        "!pwd"
      ]
    },
    {
      "cell_type": "markdown",
      "metadata": {
        "id": "B4HXqDEyt7Fi"
      },
      "source": [
        "Remote all legacy cuda framework, and update to latest version Go here: https://developer.nvidia.com/cuda-downloads"
      ]
    },
    {
      "cell_type": "code",
      "execution_count": null,
      "metadata": {
        "id": "wMZ4P3UQr0m7"
      },
      "outputs": [],
      "source": [
        "!apt-get --purge remove cuda nvidia* libnvidia-*\n",
        "!dpkg -l | grep cuda- | awk '{print $2}' | xargs -n1 dpkg --purge\n",
        "!apt-get remove cuda-*\n",
        "!apt autoremove\n",
        "!apt-get update"
      ]
    },
    {
      "cell_type": "code",
      "execution_count": null,
      "metadata": {
        "colab": {
          "base_uri": "https://localhost:8080/"
        },
        "collapsed": true,
        "id": "2HgFrvX_tAfu",
        "outputId": "1bfd45af-cf68-4aa2-92ac-89b7cd4b4258"
      },
      "outputs": [
        {
          "name": "stdout",
          "output_type": "stream",
          "text": [
            "--2024-05-22 09:49:35--  https://developer.download.nvidia.com/compute/cuda/repos/ubuntu2204/x86_64/cuda-ubuntu2204.pin\n",
            "Resolving developer.download.nvidia.com (developer.download.nvidia.com)... 152.195.19.142\n",
            "Connecting to developer.download.nvidia.com (developer.download.nvidia.com)|152.195.19.142|:443... connected.\n",
            "HTTP request sent, awaiting response... 200 OK\n",
            "Length: 190 [application/octet-stream]\n",
            "Saving to: ‘cuda-ubuntu2204.pin’\n",
            "\n",
            "\rcuda-ubuntu2204.pin   0%[                    ]       0  --.-KB/s               \rcuda-ubuntu2204.pin 100%[===================>]     190  --.-KB/s    in 0s      \n",
            "\n",
            "2024-05-22 09:49:36 (4.09 MB/s) - ‘cuda-ubuntu2204.pin’ saved [190/190]\n",
            "\n",
            "--2024-05-22 09:49:36--  https://developer.download.nvidia.com/compute/cuda/12.5.0/local_installers/cuda-repo-ubuntu2204-12-5-local_12.5.0-555.42.02-1_amd64.deb\n",
            "Resolving developer.download.nvidia.com (developer.download.nvidia.com)... 152.195.19.142\n",
            "Connecting to developer.download.nvidia.com (developer.download.nvidia.com)|152.195.19.142|:443... connected.\n",
            "HTTP request sent, awaiting response... 200 OK\n",
            "Length: 3302514250 (3.1G) [application/x-deb]\n",
            "Saving to: ‘cuda-repo-ubuntu2204-12-5-local_12.5.0-555.42.02-1_amd64.deb’\n",
            "\n",
            "cuda-repo-ubuntu220 100%[===================>]   3.08G  93.9MB/s    in 19s     \n",
            "\n",
            "2024-05-22 09:49:55 (163 MB/s) - ‘cuda-repo-ubuntu2204-12-5-local_12.5.0-555.42.02-1_amd64.deb’ saved [3302514250/3302514250]\n",
            "\n",
            "Selecting previously unselected package cuda-repo-ubuntu2204-12-5-local.\n",
            "(Reading database ... 119805 files and directories currently installed.)\n",
            "Preparing to unpack cuda-repo-ubuntu2204-12-5-local_12.5.0-555.42.02-1_amd64.deb ...\n",
            "Unpacking cuda-repo-ubuntu2204-12-5-local (12.5.0-555.42.02-1) ...\n",
            "Setting up cuda-repo-ubuntu2204-12-5-local (12.5.0-555.42.02-1) ...\n",
            "\n",
            "The public cuda-repo-ubuntu2204-12-5-local GPG key does not appear to be installed.\n",
            "To install the key, run this command:\n",
            "sudo cp /var/cuda-repo-ubuntu2204-12-5-local/cuda-E8D32221-keyring.gpg /usr/share/keyrings/\n",
            "\n",
            "Get:1 file:/var/cuda-repo-ubuntu2204-12-5-local  InRelease [1,572 B]\n",
            "Get:1 file:/var/cuda-repo-ubuntu2204-12-5-local  InRelease [1,572 B]\n",
            "Get:2 file:/var/cuda-repo-ubuntu2204-12-5-local  Packages [40.9 kB]\n",
            "Hit:3 https://cloud.r-project.org/bin/linux/ubuntu jammy-cran40/ InRelease\n",
            "Hit:4 http://security.ubuntu.com/ubuntu jammy-security InRelease\n",
            "Hit:5 http://archive.ubuntu.com/ubuntu jammy InRelease\n",
            "Hit:6 http://archive.ubuntu.com/ubuntu jammy-updates InRelease\n",
            "Hit:7 http://archive.ubuntu.com/ubuntu jammy-backports InRelease\n",
            "Hit:8 https://ppa.launchpadcontent.net/c2d4u.team/c2d4u4.0+/ubuntu jammy InRelease\n",
            "Hit:9 https://ppa.launchpadcontent.net/deadsnakes/ppa/ubuntu jammy InRelease\n",
            "Hit:10 https://ppa.launchpadcontent.net/graphics-drivers/ppa/ubuntu jammy InRelease\n",
            "Hit:11 https://ppa.launchpadcontent.net/ubuntugis/ppa/ubuntu jammy InRelease\n",
            "Reading package lists... Done\n",
            "Reading package lists... Done\n",
            "Building dependency tree... Done\n",
            "Reading state information... Done\n",
            "The following additional packages will be installed:\n",
            "  cuda-cccl-12-5 cuda-command-line-tools-12-5 cuda-compiler-12-5 cuda-crt-12-5\n",
            "  cuda-cudart-12-5 cuda-cudart-dev-12-5 cuda-cuobjdump-12-5 cuda-cupti-12-5\n",
            "  cuda-cupti-dev-12-5 cuda-cuxxfilt-12-5 cuda-documentation-12-5\n",
            "  cuda-driver-dev-12-5 cuda-gdb-12-5 cuda-libraries-12-5\n",
            "  cuda-libraries-dev-12-5 cuda-nsight-12-5 cuda-nsight-compute-12-5\n",
            "  cuda-nsight-systems-12-5 cuda-nvcc-12-5 cuda-nvdisasm-12-5\n",
            "  cuda-nvml-dev-12-5 cuda-nvprof-12-5 cuda-nvprune-12-5 cuda-nvrtc-12-5\n",
            "  cuda-nvrtc-dev-12-5 cuda-nvtx-12-5 cuda-nvvm-12-5 cuda-nvvp-12-5\n",
            "  cuda-opencl-12-5 cuda-opencl-dev-12-5 cuda-profiler-api-12-5\n",
            "  cuda-sanitizer-12-5 cuda-toolkit-12-5-config-common cuda-tools-12-5\n",
            "  cuda-visual-tools-12-5 default-jre default-jre-headless fonts-dejavu-core\n",
            "  fonts-dejavu-extra gds-tools-12-5 libatk-wrapper-java\n",
            "  libatk-wrapper-java-jni libcublas-12-5 libcublas-dev-12-5 libcufft-12-5\n",
            "  libcufft-dev-12-5 libcufile-12-5 libcufile-dev-12-5 libcurand-12-5\n",
            "  libcurand-dev-12-5 libcusolver-12-5 libcusolver-dev-12-5 libcusparse-12-5\n",
            "  libcusparse-dev-12-5 libfontenc1 libnpp-12-5 libnpp-dev-12-5\n",
            "  libnvfatbin-12-5 libnvfatbin-dev-12-5 libnvjitlink-12-5\n",
            "  libnvjitlink-dev-12-5 libnvjpeg-12-5 libnvjpeg-dev-12-5 libxcb-cursor0\n",
            "  libxcb-icccm4 libxcb-image0 libxcb-keysyms1 libxcb-render-util0 libxcb-util1\n",
            "  libxcb-xinerama0 libxcb-xinput0 libxcb-xkb1 libxkbcommon-x11-0 libxkbfile1\n",
            "  libxtst6 libxxf86dga1 nsight-compute-2024.2.0 nsight-systems-2024.2.3\n",
            "  openjdk-11-jre x11-utils\n",
            "Suggested packages:\n",
            "  mesa-utils\n",
            "The following NEW packages will be installed:\n",
            "  cuda-cccl-12-5 cuda-command-line-tools-12-5 cuda-compiler-12-5 cuda-crt-12-5\n",
            "  cuda-cudart-12-5 cuda-cudart-dev-12-5 cuda-cuobjdump-12-5 cuda-cupti-12-5\n",
            "  cuda-cupti-dev-12-5 cuda-cuxxfilt-12-5 cuda-documentation-12-5\n",
            "  cuda-driver-dev-12-5 cuda-gdb-12-5 cuda-libraries-12-5\n",
            "  cuda-libraries-dev-12-5 cuda-nsight-12-5 cuda-nsight-compute-12-5\n",
            "  cuda-nsight-systems-12-5 cuda-nvcc-12-5 cuda-nvdisasm-12-5\n",
            "  cuda-nvml-dev-12-5 cuda-nvprof-12-5 cuda-nvprune-12-5 cuda-nvrtc-12-5\n",
            "  cuda-nvrtc-dev-12-5 cuda-nvtx-12-5 cuda-nvvm-12-5 cuda-nvvp-12-5\n",
            "  cuda-opencl-12-5 cuda-opencl-dev-12-5 cuda-profiler-api-12-5\n",
            "  cuda-sanitizer-12-5 cuda-toolkit-12-5 cuda-toolkit-12-5-config-common\n",
            "  cuda-tools-12-5 cuda-visual-tools-12-5 default-jre default-jre-headless\n",
            "  fonts-dejavu-core fonts-dejavu-extra gds-tools-12-5 libatk-wrapper-java\n",
            "  libatk-wrapper-java-jni libcublas-12-5 libcublas-dev-12-5 libcufft-12-5\n",
            "  libcufft-dev-12-5 libcufile-12-5 libcufile-dev-12-5 libcurand-12-5\n",
            "  libcurand-dev-12-5 libcusolver-12-5 libcusolver-dev-12-5 libcusparse-12-5\n",
            "  libcusparse-dev-12-5 libfontenc1 libnpp-12-5 libnpp-dev-12-5\n",
            "  libnvfatbin-12-5 libnvfatbin-dev-12-5 libnvjitlink-12-5\n",
            "  libnvjitlink-dev-12-5 libnvjpeg-12-5 libnvjpeg-dev-12-5 libxcb-cursor0\n",
            "  libxcb-icccm4 libxcb-image0 libxcb-keysyms1 libxcb-render-util0 libxcb-util1\n",
            "  libxcb-xinerama0 libxcb-xinput0 libxcb-xkb1 libxkbcommon-x11-0 libxkbfile1\n",
            "  libxtst6 libxxf86dga1 nsight-compute-2024.2.0 nsight-systems-2024.2.3\n",
            "  openjdk-11-jre x11-utils\n",
            "0 upgraded, 81 newly installed, 0 to remove and 40 not upgraded.\n",
            "Need to get 3,871 kB/2,879 MB of archives.\n",
            "After this operation, 6,484 MB of additional disk space will be used.\n",
            "Get:1 file:/var/cuda-repo-ubuntu2204-12-5-local  cuda-cccl-12-5 12.5.39-1 [1,241 kB]\n",
            "Get:2 file:/var/cuda-repo-ubuntu2204-12-5-local  cuda-cupti-12-5 12.5.39-1 [16.8 MB]\n",
            "Get:3 http://archive.ubuntu.com/ubuntu jammy/main amd64 default-jre-headless amd64 2:1.11-72build2 [3,042 B]\n",
            "Get:4 file:/var/cuda-repo-ubuntu2204-12-5-local  cuda-cupti-dev-12-5 12.5.39-1 [3,834 kB]\n",
            "Get:5 http://archive.ubuntu.com/ubuntu jammy/main amd64 libxtst6 amd64 2:1.2.3-1build4 [13.4 kB]\n",
            "Get:6 http://archive.ubuntu.com/ubuntu jammy-updates/main amd64 openjdk-11-jre amd64 11.0.22+7-0ubuntu2~22.04.1 [214 kB]\n",
            "Get:7 http://archive.ubuntu.com/ubuntu jammy/main amd64 default-jre amd64 2:1.11-72build2 [896 B]\n",
            "Get:8 http://archive.ubuntu.com/ubuntu jammy/main amd64 libxcb-xinerama0 amd64 1.14-3ubuntu3 [5,414 B]\n",
            "Get:9 http://archive.ubuntu.com/ubuntu jammy/main amd64 libxcb-icccm4 amd64 0.4.1-1.1build2 [11.5 kB]\n",
            "Get:10 http://archive.ubuntu.com/ubuntu jammy/main amd64 libxcb-util1 amd64 0.4.0-1build2 [11.4 kB]\n",
            "Get:11 http://archive.ubuntu.com/ubuntu jammy/main amd64 libxcb-image0 amd64 0.4.0-2 [11.5 kB]\n",
            "Get:12 http://archive.ubuntu.com/ubuntu jammy/main amd64 libxcb-keysyms1 amd64 0.4.0-1build3 [8,746 B]\n",
            "Get:13 http://archive.ubuntu.com/ubuntu jammy/main amd64 libxcb-render-util0 amd64 0.3.9-1build3 [10.3 kB]\n",
            "Get:14 http://archive.ubuntu.com/ubuntu jammy/main amd64 libxcb-xkb1 amd64 1.14-3ubuntu3 [32.8 kB]\n",
            "Get:15 file:/var/cuda-repo-ubuntu2204-12-5-local  cuda-nvdisasm-12-5 12.5.39-1 [49.9 MB]\n",
            "Get:16 file:/var/cuda-repo-ubuntu2204-12-5-local  cuda-cuobjdump-12-5 12.5.39-1 [220 kB]\n",
            "Get:17 http://archive.ubuntu.com/ubuntu jammy/main amd64 libxkbcommon-x11-0 amd64 1.4.0-1 [14.4 kB]\n",
            "Get:18 file:/var/cuda-repo-ubuntu2204-12-5-local  cuda-gdb-12-5 12.5.39-1 [27.2 MB]\n",
            "Get:19 file:/var/cuda-repo-ubuntu2204-12-5-local  cuda-nvprof-12-5 12.5.39-1 [2,431 kB]\n",
            "Get:20 file:/var/cuda-repo-ubuntu2204-12-5-local  cuda-nvtx-12-5 12.5.39-1 [51.5 kB]\n",
            "Get:21 http://archive.ubuntu.com/ubuntu jammy/main amd64 libxcb-xinput0 amd64 1.14-3ubuntu3 [34.3 kB]\n",
            "Get:22 http://archive.ubuntu.com/ubuntu jammy/universe amd64 libxcb-cursor0 amd64 0.1.1-4ubuntu1 [10.5 kB]\n",
            "Get:23 file:/var/cuda-repo-ubuntu2204-12-5-local  cuda-sanitizer-12-5 12.5.39-1 [9,244 kB]\n",
            "Get:24 file:/var/cuda-repo-ubuntu2204-12-5-local  cuda-command-line-tools-12-5 12.5.0-1 [2,546 B]\n",
            "Get:25 file:/var/cuda-repo-ubuntu2204-12-5-local  cuda-cuxxfilt-12-5 12.5.39-1 [190 kB]\n",
            "Get:26 file:/var/cuda-repo-ubuntu2204-12-5-local  cuda-toolkit-12-5-config-common 12.5.39-1 [16.5 kB]\n",
            "Get:27 file:/var/cuda-repo-ubuntu2204-12-5-local  cuda-cudart-12-5 12.5.39-1 [165 kB]\n",
            "Get:28 http://archive.ubuntu.com/ubuntu jammy/main amd64 fonts-dejavu-core all 2.37-2build1 [1,041 kB]\n",
            "Get:29 file:/var/cuda-repo-ubuntu2204-12-5-local  cuda-driver-dev-12-5 12.5.39-1 [29.0 kB]\n",
            "Get:30 file:/var/cuda-repo-ubuntu2204-12-5-local  cuda-cudart-dev-12-5 12.5.39-1 [1,008 kB]\n",
            "Get:31 file:/var/cuda-repo-ubuntu2204-12-5-local  cuda-nvvm-12-5 12.5.40-1 [19.6 MB]\n",
            "Get:32 file:/var/cuda-repo-ubuntu2204-12-5-local  cuda-crt-12-5 12.5.40-1 [77.1 kB]\n",
            "Get:33 http://archive.ubuntu.com/ubuntu jammy/main amd64 fonts-dejavu-extra all 2.37-2build1 [2,041 kB]\n",
            "Get:34 http://archive.ubuntu.com/ubuntu jammy/main amd64 libfontenc1 amd64 1:1.1.4-1build3 [14.7 kB]\n",
            "Get:35 http://archive.ubuntu.com/ubuntu jammy/main amd64 libxkbfile1 amd64 1:1.1.0-1build3 [71.8 kB]\n",
            "Get:36 http://archive.ubuntu.com/ubuntu jammy/main amd64 libxxf86dga1 amd64 2:1.1.5-0ubuntu3 [12.6 kB]\n",
            "Get:37 http://archive.ubuntu.com/ubuntu jammy/main amd64 x11-utils amd64 7.7+5build2 [206 kB]\n",
            "Get:38 http://archive.ubuntu.com/ubuntu jammy/main amd64 libatk-wrapper-java all 0.38.0-5build1 [53.1 kB]\n",
            "Get:39 http://archive.ubuntu.com/ubuntu jammy/main amd64 libatk-wrapper-java-jni amd64 0.38.0-5build1 [49.0 kB]\n",
            "Get:40 file:/var/cuda-repo-ubuntu2204-12-5-local  cuda-nvcc-12-5 12.5.40-1 [32.5 MB]\n",
            "Get:41 file:/var/cuda-repo-ubuntu2204-12-5-local  cuda-nvprune-12-5 12.5.39-1 [59.3 kB]\n",
            "Get:42 file:/var/cuda-repo-ubuntu2204-12-5-local  cuda-compiler-12-5 12.5.0-1 [2,506 B]\n",
            "Get:43 file:/var/cuda-repo-ubuntu2204-12-5-local  cuda-documentation-12-5 12.5.39-1 [50.1 kB]\n",
            "Get:44 file:/var/cuda-repo-ubuntu2204-12-5-local  cuda-nvrtc-12-5 12.5.40-1 [17.8 MB]\n",
            "Get:45 file:/var/cuda-repo-ubuntu2204-12-5-local  cuda-opencl-12-5 12.5.39-1 [24.0 kB]\n",
            "Get:46 file:/var/cuda-repo-ubuntu2204-12-5-local  libcublas-12-5 12.5.2.13-1 [241 MB]\n",
            "Get:47 file:/var/cuda-repo-ubuntu2204-12-5-local  libcufft-12-5 11.2.3.18-1 [153 MB]\n",
            "Get:48 file:/var/cuda-repo-ubuntu2204-12-5-local  libcufile-12-5 1.10.0.4-1 [850 kB]\n",
            "Get:49 file:/var/cuda-repo-ubuntu2204-12-5-local  libcurand-12-5 10.3.6.39-1 [41.4 MB]\n",
            "Get:50 file:/var/cuda-repo-ubuntu2204-12-5-local  libcusolver-12-5 11.6.2.40-1 [81.2 MB]\n",
            "Get:51 file:/var/cuda-repo-ubuntu2204-12-5-local  libcusparse-12-5 12.4.1.24-1 [115 MB]\n",
            "Get:52 file:/var/cuda-repo-ubuntu2204-12-5-local  libnpp-12-5 12.3.0.116-1 [95.8 MB]\n",
            "Get:53 file:/var/cuda-repo-ubuntu2204-12-5-local  libnvjitlink-12-5 12.5.40-1 [15.7 MB]\n",
            "Get:54 file:/var/cuda-repo-ubuntu2204-12-5-local  libnvfatbin-12-5 12.5.39-1 [733 kB]\n",
            "Get:55 file:/var/cuda-repo-ubuntu2204-12-5-local  libnvjpeg-12-5 12.3.2.38-1 [2,331 kB]\n",
            "Get:56 file:/var/cuda-repo-ubuntu2204-12-5-local  cuda-libraries-12-5 12.5.0-1 [2,614 B]\n",
            "Get:57 file:/var/cuda-repo-ubuntu2204-12-5-local  cuda-profiler-api-12-5 12.5.39-1 [18.7 kB]\n",
            "Get:58 file:/var/cuda-repo-ubuntu2204-12-5-local  cuda-nvrtc-dev-12-5 12.5.40-1 [17.0 MB]\n",
            "Get:59 file:/var/cuda-repo-ubuntu2204-12-5-local  cuda-opencl-dev-12-5 12.5.39-1 [87.7 kB]\n",
            "Get:60 file:/var/cuda-repo-ubuntu2204-12-5-local  libcublas-dev-12-5 12.5.2.13-1 [259 MB]\n",
            "Get:61 file:/var/cuda-repo-ubuntu2204-12-5-local  libcufft-dev-12-5 11.2.3.18-1 [305 MB]\n",
            "Get:62 file:/var/cuda-repo-ubuntu2204-12-5-local  libcufile-dev-12-5 1.10.0.4-1 [2,433 kB]\n",
            "Get:63 file:/var/cuda-repo-ubuntu2204-12-5-local  libcurand-dev-12-5 10.3.6.39-1 [41.6 MB]\n",
            "Get:64 file:/var/cuda-repo-ubuntu2204-12-5-local  libcusolver-dev-12-5 11.6.2.40-1 [51.9 MB]\n",
            "Get:65 file:/var/cuda-repo-ubuntu2204-12-5-local  libcusparse-dev-12-5 12.4.1.24-1 [117 MB]\n",
            "Get:66 file:/var/cuda-repo-ubuntu2204-12-5-local  libnpp-dev-12-5 12.3.0.116-1 [92.2 MB]\n",
            "Get:67 file:/var/cuda-repo-ubuntu2204-12-5-local  libnvjitlink-dev-12-5 12.5.40-1 [14.1 MB]\n",
            "Get:68 file:/var/cuda-repo-ubuntu2204-12-5-local  libnvfatbin-dev-12-5 12.5.39-1 [606 kB]\n",
            "Get:69 file:/var/cuda-repo-ubuntu2204-12-5-local  libnvjpeg-dev-12-5 12.3.2.38-1 [2,028 kB]\n",
            "Get:70 file:/var/cuda-repo-ubuntu2204-12-5-local  cuda-libraries-dev-12-5 12.5.0-1 [2,654 B]\n",
            "Get:71 file:/var/cuda-repo-ubuntu2204-12-5-local  cuda-nsight-12-5 12.5.39-1 [119 MB]\n",
            "Get:72 file:/var/cuda-repo-ubuntu2204-12-5-local  nsight-compute-2024.2.0 2024.2.0.16-1 [432 MB]\n",
            "Get:73 file:/var/cuda-repo-ubuntu2204-12-5-local  cuda-nsight-compute-12-5 12.5.0-1 [4,064 B]\n",
            "Get:74 file:/var/cuda-repo-ubuntu2204-12-5-local  nsight-systems-2024.2.3 2024.2.3.38-242334140272v0 [342 MB]\n",
            "Get:75 file:/var/cuda-repo-ubuntu2204-12-5-local  cuda-nsight-systems-12-5 12.5.0-1 [3,352 B]\n",
            "Get:76 file:/var/cuda-repo-ubuntu2204-12-5-local  cuda-nvml-dev-12-5 12.5.39-1 [147 kB]\n",
            "Get:77 file:/var/cuda-repo-ubuntu2204-12-5-local  cuda-nvvp-12-5 12.5.39-1 [113 MB]\n",
            "Get:78 file:/var/cuda-repo-ubuntu2204-12-5-local  cuda-visual-tools-12-5 12.5.0-1 [2,942 B]\n",
            "Get:79 file:/var/cuda-repo-ubuntu2204-12-5-local  gds-tools-12-5 1.10.0.4-1 [39.0 MB]\n",
            "Get:80 file:/var/cuda-repo-ubuntu2204-12-5-local  cuda-tools-12-5 12.5.0-1 [2,466 B]\n",
            "Get:81 file:/var/cuda-repo-ubuntu2204-12-5-local  cuda-toolkit-12-5 12.5.0-1 [3,344 B]\n",
            "Fetched 3,871 kB in 29s (135 kB/s)\n",
            "debconf: unable to initialize frontend: Dialog\n",
            "debconf: (No usable dialog-like program is installed, so the dialog based frontend cannot be used. at /usr/share/perl5/Debconf/FrontEnd/Dialog.pm line 78, <> line 81.)\n",
            "debconf: falling back to frontend: Readline\n",
            "debconf: unable to initialize frontend: Readline\n",
            "debconf: (This frontend requires a controlling tty.)\n",
            "debconf: falling back to frontend: Teletype\n",
            "dpkg-preconfigure: unable to re-open stdin: \n",
            "Selecting previously unselected package cuda-cccl-12-5.\n",
            "(Reading database ... 119962 files and directories currently installed.)\n",
            "Preparing to unpack .../00-cuda-cccl-12-5_12.5.39-1_amd64.deb ...\n",
            "Unpacking cuda-cccl-12-5 (12.5.39-1) ...\n",
            "Selecting previously unselected package cuda-cupti-12-5.\n",
            "Preparing to unpack .../01-cuda-cupti-12-5_12.5.39-1_amd64.deb ...\n",
            "Unpacking cuda-cupti-12-5 (12.5.39-1) ...\n",
            "Selecting previously unselected package cuda-cupti-dev-12-5.\n",
            "Preparing to unpack .../02-cuda-cupti-dev-12-5_12.5.39-1_amd64.deb ...\n",
            "Unpacking cuda-cupti-dev-12-5 (12.5.39-1) ...\n",
            "Selecting previously unselected package cuda-nvdisasm-12-5.\n",
            "Preparing to unpack .../03-cuda-nvdisasm-12-5_12.5.39-1_amd64.deb ...\n",
            "Unpacking cuda-nvdisasm-12-5 (12.5.39-1) ...\n",
            "Selecting previously unselected package cuda-cuobjdump-12-5.\n",
            "Preparing to unpack .../04-cuda-cuobjdump-12-5_12.5.39-1_amd64.deb ...\n",
            "Unpacking cuda-cuobjdump-12-5 (12.5.39-1) ...\n",
            "Selecting previously unselected package cuda-gdb-12-5.\n",
            "Preparing to unpack .../05-cuda-gdb-12-5_12.5.39-1_amd64.deb ...\n",
            "Unpacking cuda-gdb-12-5 (12.5.39-1) ...\n",
            "Selecting previously unselected package cuda-nvprof-12-5.\n",
            "Preparing to unpack .../06-cuda-nvprof-12-5_12.5.39-1_amd64.deb ...\n",
            "Unpacking cuda-nvprof-12-5 (12.5.39-1) ...\n",
            "Selecting previously unselected package cuda-nvtx-12-5.\n",
            "Preparing to unpack .../07-cuda-nvtx-12-5_12.5.39-1_amd64.deb ...\n",
            "Unpacking cuda-nvtx-12-5 (12.5.39-1) ...\n",
            "Selecting previously unselected package cuda-sanitizer-12-5.\n",
            "Preparing to unpack .../08-cuda-sanitizer-12-5_12.5.39-1_amd64.deb ...\n",
            "Unpacking cuda-sanitizer-12-5 (12.5.39-1) ...\n",
            "Selecting previously unselected package cuda-command-line-tools-12-5.\n",
            "Preparing to unpack .../09-cuda-command-line-tools-12-5_12.5.0-1_amd64.deb ...\n",
            "Unpacking cuda-command-line-tools-12-5 (12.5.0-1) ...\n",
            "Selecting previously unselected package cuda-cuxxfilt-12-5.\n",
            "Preparing to unpack .../10-cuda-cuxxfilt-12-5_12.5.39-1_amd64.deb ...\n",
            "Unpacking cuda-cuxxfilt-12-5 (12.5.39-1) ...\n",
            "Selecting previously unselected package cuda-toolkit-12-5-config-common.\n",
            "Preparing to unpack .../11-cuda-toolkit-12-5-config-common_12.5.39-1_all.deb ...\n",
            "Unpacking cuda-toolkit-12-5-config-common (12.5.39-1) ...\n",
            "Selecting previously unselected package cuda-cudart-12-5.\n",
            "Preparing to unpack .../12-cuda-cudart-12-5_12.5.39-1_amd64.deb ...\n",
            "Unpacking cuda-cudart-12-5 (12.5.39-1) ...\n",
            "Selecting previously unselected package cuda-driver-dev-12-5.\n",
            "Preparing to unpack .../13-cuda-driver-dev-12-5_12.5.39-1_amd64.deb ...\n",
            "Unpacking cuda-driver-dev-12-5 (12.5.39-1) ...\n",
            "Selecting previously unselected package cuda-cudart-dev-12-5.\n",
            "Preparing to unpack .../14-cuda-cudart-dev-12-5_12.5.39-1_amd64.deb ...\n",
            "Unpacking cuda-cudart-dev-12-5 (12.5.39-1) ...\n",
            "Selecting previously unselected package cuda-nvvm-12-5.\n",
            "Preparing to unpack .../15-cuda-nvvm-12-5_12.5.40-1_amd64.deb ...\n",
            "Unpacking cuda-nvvm-12-5 (12.5.40-1) ...\n",
            "Selecting previously unselected package cuda-crt-12-5.\n",
            "Preparing to unpack .../16-cuda-crt-12-5_12.5.40-1_amd64.deb ...\n",
            "Unpacking cuda-crt-12-5 (12.5.40-1) ...\n",
            "Selecting previously unselected package cuda-nvcc-12-5.\n",
            "Preparing to unpack .../17-cuda-nvcc-12-5_12.5.40-1_amd64.deb ...\n",
            "Unpacking cuda-nvcc-12-5 (12.5.40-1) ...\n",
            "Selecting previously unselected package cuda-nvprune-12-5.\n",
            "Preparing to unpack .../18-cuda-nvprune-12-5_12.5.39-1_amd64.deb ...\n",
            "Unpacking cuda-nvprune-12-5 (12.5.39-1) ...\n",
            "Selecting previously unselected package cuda-compiler-12-5.\n",
            "Preparing to unpack .../19-cuda-compiler-12-5_12.5.0-1_amd64.deb ...\n",
            "Unpacking cuda-compiler-12-5 (12.5.0-1) ...\n",
            "Selecting previously unselected package cuda-documentation-12-5.\n",
            "Preparing to unpack .../20-cuda-documentation-12-5_12.5.39-1_amd64.deb ...\n",
            "Unpacking cuda-documentation-12-5 (12.5.39-1) ...\n",
            "Selecting previously unselected package cuda-nvrtc-12-5.\n",
            "Preparing to unpack .../21-cuda-nvrtc-12-5_12.5.40-1_amd64.deb ...\n",
            "Unpacking cuda-nvrtc-12-5 (12.5.40-1) ...\n",
            "Selecting previously unselected package cuda-opencl-12-5.\n",
            "Preparing to unpack .../22-cuda-opencl-12-5_12.5.39-1_amd64.deb ...\n",
            "Unpacking cuda-opencl-12-5 (12.5.39-1) ...\n",
            "Selecting previously unselected package libcublas-12-5.\n",
            "Preparing to unpack .../23-libcublas-12-5_12.5.2.13-1_amd64.deb ...\n",
            "Unpacking libcublas-12-5 (12.5.2.13-1) ...\n",
            "Selecting previously unselected package libcufft-12-5.\n",
            "Preparing to unpack .../24-libcufft-12-5_11.2.3.18-1_amd64.deb ...\n",
            "Unpacking libcufft-12-5 (11.2.3.18-1) ...\n",
            "Selecting previously unselected package libcufile-12-5.\n",
            "Preparing to unpack .../25-libcufile-12-5_1.10.0.4-1_amd64.deb ...\n",
            "Unpacking libcufile-12-5 (1.10.0.4-1) ...\n",
            "Selecting previously unselected package libcurand-12-5.\n",
            "Preparing to unpack .../26-libcurand-12-5_10.3.6.39-1_amd64.deb ...\n",
            "Unpacking libcurand-12-5 (10.3.6.39-1) ...\n",
            "Selecting previously unselected package libcusolver-12-5.\n",
            "Preparing to unpack .../27-libcusolver-12-5_11.6.2.40-1_amd64.deb ...\n",
            "Unpacking libcusolver-12-5 (11.6.2.40-1) ...\n",
            "Selecting previously unselected package libcusparse-12-5.\n",
            "Preparing to unpack .../28-libcusparse-12-5_12.4.1.24-1_amd64.deb ...\n",
            "Unpacking libcusparse-12-5 (12.4.1.24-1) ...\n",
            "Selecting previously unselected package libnpp-12-5.\n",
            "Preparing to unpack .../29-libnpp-12-5_12.3.0.116-1_amd64.deb ...\n",
            "Unpacking libnpp-12-5 (12.3.0.116-1) ...\n",
            "Selecting previously unselected package libnvjitlink-12-5.\n",
            "Preparing to unpack .../30-libnvjitlink-12-5_12.5.40-1_amd64.deb ...\n",
            "Unpacking libnvjitlink-12-5 (12.5.40-1) ...\n",
            "Selecting previously unselected package libnvfatbin-12-5.\n",
            "Preparing to unpack .../31-libnvfatbin-12-5_12.5.39-1_amd64.deb ...\n",
            "Unpacking libnvfatbin-12-5 (12.5.39-1) ...\n",
            "Selecting previously unselected package libnvjpeg-12-5.\n",
            "Preparing to unpack .../32-libnvjpeg-12-5_12.3.2.38-1_amd64.deb ...\n",
            "Unpacking libnvjpeg-12-5 (12.3.2.38-1) ...\n",
            "Selecting previously unselected package cuda-libraries-12-5.\n",
            "Preparing to unpack .../33-cuda-libraries-12-5_12.5.0-1_amd64.deb ...\n",
            "Unpacking cuda-libraries-12-5 (12.5.0-1) ...\n",
            "Selecting previously unselected package cuda-profiler-api-12-5.\n",
            "Preparing to unpack .../34-cuda-profiler-api-12-5_12.5.39-1_amd64.deb ...\n",
            "Unpacking cuda-profiler-api-12-5 (12.5.39-1) ...\n",
            "Selecting previously unselected package cuda-nvrtc-dev-12-5.\n",
            "Preparing to unpack .../35-cuda-nvrtc-dev-12-5_12.5.40-1_amd64.deb ...\n",
            "Unpacking cuda-nvrtc-dev-12-5 (12.5.40-1) ...\n",
            "Selecting previously unselected package cuda-opencl-dev-12-5.\n",
            "Preparing to unpack .../36-cuda-opencl-dev-12-5_12.5.39-1_amd64.deb ...\n",
            "Unpacking cuda-opencl-dev-12-5 (12.5.39-1) ...\n",
            "Selecting previously unselected package libcublas-dev-12-5.\n",
            "Preparing to unpack .../37-libcublas-dev-12-5_12.5.2.13-1_amd64.deb ...\n",
            "Unpacking libcublas-dev-12-5 (12.5.2.13-1) ...\n",
            "Selecting previously unselected package libcufft-dev-12-5.\n",
            "Preparing to unpack .../38-libcufft-dev-12-5_11.2.3.18-1_amd64.deb ...\n",
            "Unpacking libcufft-dev-12-5 (11.2.3.18-1) ...\n",
            "Selecting previously unselected package libcufile-dev-12-5.\n",
            "Preparing to unpack .../39-libcufile-dev-12-5_1.10.0.4-1_amd64.deb ...\n",
            "Unpacking libcufile-dev-12-5 (1.10.0.4-1) ...\n",
            "Selecting previously unselected package libcurand-dev-12-5.\n",
            "Preparing to unpack .../40-libcurand-dev-12-5_10.3.6.39-1_amd64.deb ...\n",
            "Unpacking libcurand-dev-12-5 (10.3.6.39-1) ...\n",
            "Selecting previously unselected package libcusolver-dev-12-5.\n",
            "Preparing to unpack .../41-libcusolver-dev-12-5_11.6.2.40-1_amd64.deb ...\n",
            "Unpacking libcusolver-dev-12-5 (11.6.2.40-1) ...\n",
            "Selecting previously unselected package libcusparse-dev-12-5.\n",
            "Preparing to unpack .../42-libcusparse-dev-12-5_12.4.1.24-1_amd64.deb ...\n",
            "Unpacking libcusparse-dev-12-5 (12.4.1.24-1) ...\n",
            "Selecting previously unselected package libnpp-dev-12-5.\n",
            "Preparing to unpack .../43-libnpp-dev-12-5_12.3.0.116-1_amd64.deb ...\n",
            "Unpacking libnpp-dev-12-5 (12.3.0.116-1) ...\n",
            "Selecting previously unselected package libnvjitlink-dev-12-5.\n",
            "Preparing to unpack .../44-libnvjitlink-dev-12-5_12.5.40-1_amd64.deb ...\n",
            "Unpacking libnvjitlink-dev-12-5 (12.5.40-1) ...\n",
            "Selecting previously unselected package libnvfatbin-dev-12-5.\n",
            "Preparing to unpack .../45-libnvfatbin-dev-12-5_12.5.39-1_amd64.deb ...\n",
            "Unpacking libnvfatbin-dev-12-5 (12.5.39-1) ...\n",
            "Selecting previously unselected package libnvjpeg-dev-12-5.\n",
            "Preparing to unpack .../46-libnvjpeg-dev-12-5_12.3.2.38-1_amd64.deb ...\n",
            "Unpacking libnvjpeg-dev-12-5 (12.3.2.38-1) ...\n",
            "Selecting previously unselected package cuda-libraries-dev-12-5.\n",
            "Preparing to unpack .../47-cuda-libraries-dev-12-5_12.5.0-1_amd64.deb ...\n",
            "Unpacking cuda-libraries-dev-12-5 (12.5.0-1) ...\n",
            "Selecting previously unselected package default-jre-headless.\n",
            "Preparing to unpack .../48-default-jre-headless_2%3a1.11-72build2_amd64.deb ...\n",
            "Unpacking default-jre-headless (2:1.11-72build2) ...\n",
            "Selecting previously unselected package libxtst6:amd64.\n",
            "Preparing to unpack .../49-libxtst6_2%3a1.2.3-1build4_amd64.deb ...\n",
            "Unpacking libxtst6:amd64 (2:1.2.3-1build4) ...\n",
            "Selecting previously unselected package openjdk-11-jre:amd64.\n",
            "Preparing to unpack .../50-openjdk-11-jre_11.0.22+7-0ubuntu2~22.04.1_amd64.deb ...\n",
            "Unpacking openjdk-11-jre:amd64 (11.0.22+7-0ubuntu2~22.04.1) ...\n",
            "Selecting previously unselected package default-jre.\n",
            "Preparing to unpack .../51-default-jre_2%3a1.11-72build2_amd64.deb ...\n",
            "Unpacking default-jre (2:1.11-72build2) ...\n",
            "Selecting previously unselected package cuda-nsight-12-5.\n",
            "Preparing to unpack .../52-cuda-nsight-12-5_12.5.39-1_amd64.deb ...\n",
            "Unpacking cuda-nsight-12-5 (12.5.39-1) ...\n",
            "Selecting previously unselected package nsight-compute-2024.2.0.\n",
            "Preparing to unpack .../53-nsight-compute-2024.2.0_2024.2.0.16-1_amd64.deb ...\n",
            "Unpacking nsight-compute-2024.2.0 (2024.2.0.16-1) ...\n",
            "Selecting previously unselected package cuda-nsight-compute-12-5.\n",
            "Preparing to unpack .../54-cuda-nsight-compute-12-5_12.5.0-1_amd64.deb ...\n",
            "Unpacking cuda-nsight-compute-12-5 (12.5.0-1) ...\n",
            "Selecting previously unselected package libxcb-xinerama0:amd64.\n",
            "Preparing to unpack .../55-libxcb-xinerama0_1.14-3ubuntu3_amd64.deb ...\n",
            "Unpacking libxcb-xinerama0:amd64 (1.14-3ubuntu3) ...\n",
            "Selecting previously unselected package libxcb-icccm4:amd64.\n",
            "Preparing to unpack .../56-libxcb-icccm4_0.4.1-1.1build2_amd64.deb ...\n",
            "Unpacking libxcb-icccm4:amd64 (0.4.1-1.1build2) ...\n",
            "Selecting previously unselected package libxcb-util1:amd64.\n",
            "Preparing to unpack .../57-libxcb-util1_0.4.0-1build2_amd64.deb ...\n",
            "Unpacking libxcb-util1:amd64 (0.4.0-1build2) ...\n",
            "Selecting previously unselected package libxcb-image0:amd64.\n",
            "Preparing to unpack .../58-libxcb-image0_0.4.0-2_amd64.deb ...\n",
            "Unpacking libxcb-image0:amd64 (0.4.0-2) ...\n",
            "Selecting previously unselected package libxcb-keysyms1:amd64.\n",
            "Preparing to unpack .../59-libxcb-keysyms1_0.4.0-1build3_amd64.deb ...\n",
            "Unpacking libxcb-keysyms1:amd64 (0.4.0-1build3) ...\n",
            "Selecting previously unselected package libxcb-render-util0:amd64.\n",
            "Preparing to unpack .../60-libxcb-render-util0_0.3.9-1build3_amd64.deb ...\n",
            "Unpacking libxcb-render-util0:amd64 (0.3.9-1build3) ...\n",
            "Selecting previously unselected package libxcb-xkb1:amd64.\n",
            "Preparing to unpack .../61-libxcb-xkb1_1.14-3ubuntu3_amd64.deb ...\n",
            "Unpacking libxcb-xkb1:amd64 (1.14-3ubuntu3) ...\n",
            "Selecting previously unselected package libxkbcommon-x11-0:amd64.\n",
            "Preparing to unpack .../62-libxkbcommon-x11-0_1.4.0-1_amd64.deb ...\n",
            "Unpacking libxkbcommon-x11-0:amd64 (1.4.0-1) ...\n",
            "Selecting previously unselected package libxcb-xinput0:amd64.\n",
            "Preparing to unpack .../63-libxcb-xinput0_1.14-3ubuntu3_amd64.deb ...\n",
            "Unpacking libxcb-xinput0:amd64 (1.14-3ubuntu3) ...\n",
            "Selecting previously unselected package libxcb-cursor0:amd64.\n",
            "Preparing to unpack .../64-libxcb-cursor0_0.1.1-4ubuntu1_amd64.deb ...\n",
            "Unpacking libxcb-cursor0:amd64 (0.1.1-4ubuntu1) ...\n",
            "Selecting previously unselected package nsight-systems-2024.2.3.\n",
            "Preparing to unpack .../65-nsight-systems-2024.2.3_2024.2.3.38-1_amd64.deb ...\n",
            "Unpacking nsight-systems-2024.2.3 (2024.2.3.38-242334140272v0) ...\n",
            "Selecting previously unselected package cuda-nsight-systems-12-5.\n",
            "Preparing to unpack .../66-cuda-nsight-systems-12-5_12.5.0-1_amd64.deb ...\n",
            "Unpacking cuda-nsight-systems-12-5 (12.5.0-1) ...\n",
            "Selecting previously unselected package cuda-nvml-dev-12-5.\n",
            "Preparing to unpack .../67-cuda-nvml-dev-12-5_12.5.39-1_amd64.deb ...\n",
            "Unpacking cuda-nvml-dev-12-5 (12.5.39-1) ...\n",
            "Selecting previously unselected package cuda-nvvp-12-5.\n",
            "Preparing to unpack .../68-cuda-nvvp-12-5_12.5.39-1_amd64.deb ...\n",
            "Unpacking cuda-nvvp-12-5 (12.5.39-1) ...\n",
            "Selecting previously unselected package cuda-visual-tools-12-5.\n",
            "Preparing to unpack .../69-cuda-visual-tools-12-5_12.5.0-1_amd64.deb ...\n",
            "Unpacking cuda-visual-tools-12-5 (12.5.0-1) ...\n",
            "Selecting previously unselected package gds-tools-12-5.\n",
            "Preparing to unpack .../70-gds-tools-12-5_1.10.0.4-1_amd64.deb ...\n",
            "Unpacking gds-tools-12-5 (1.10.0.4-1) ...\n",
            "Selecting previously unselected package cuda-tools-12-5.\n",
            "Preparing to unpack .../71-cuda-tools-12-5_12.5.0-1_amd64.deb ...\n",
            "Unpacking cuda-tools-12-5 (12.5.0-1) ...\n",
            "Selecting previously unselected package cuda-toolkit-12-5.\n",
            "Preparing to unpack .../72-cuda-toolkit-12-5_12.5.0-1_amd64.deb ...\n",
            "Unpacking cuda-toolkit-12-5 (12.5.0-1) ...\n",
            "Selecting previously unselected package fonts-dejavu-core.\n",
            "Preparing to unpack .../73-fonts-dejavu-core_2.37-2build1_all.deb ...\n",
            "Unpacking fonts-dejavu-core (2.37-2build1) ...\n",
            "Selecting previously unselected package fonts-dejavu-extra.\n",
            "Preparing to unpack .../74-fonts-dejavu-extra_2.37-2build1_all.deb ...\n",
            "Unpacking fonts-dejavu-extra (2.37-2build1) ...\n",
            "Selecting previously unselected package libfontenc1:amd64.\n",
            "Preparing to unpack .../75-libfontenc1_1%3a1.1.4-1build3_amd64.deb ...\n",
            "Unpacking libfontenc1:amd64 (1:1.1.4-1build3) ...\n",
            "Selecting previously unselected package libxkbfile1:amd64.\n",
            "Preparing to unpack .../76-libxkbfile1_1%3a1.1.0-1build3_amd64.deb ...\n",
            "Unpacking libxkbfile1:amd64 (1:1.1.0-1build3) ...\n",
            "Selecting previously unselected package libxxf86dga1:amd64.\n",
            "Preparing to unpack .../77-libxxf86dga1_2%3a1.1.5-0ubuntu3_amd64.deb ...\n",
            "Unpacking libxxf86dga1:amd64 (2:1.1.5-0ubuntu3) ...\n",
            "Selecting previously unselected package x11-utils.\n",
            "Preparing to unpack .../78-x11-utils_7.7+5build2_amd64.deb ...\n",
            "Unpacking x11-utils (7.7+5build2) ...\n",
            "Selecting previously unselected package libatk-wrapper-java.\n",
            "Preparing to unpack .../79-libatk-wrapper-java_0.38.0-5build1_all.deb ...\n",
            "Unpacking libatk-wrapper-java (0.38.0-5build1) ...\n",
            "Selecting previously unselected package libatk-wrapper-java-jni:amd64.\n",
            "Preparing to unpack .../80-libatk-wrapper-java-jni_0.38.0-5build1_amd64.deb ...\n",
            "Unpacking libatk-wrapper-java-jni:amd64 (0.38.0-5build1) ...\n",
            "Setting up cuda-nvml-dev-12-5 (12.5.39-1) ...\n",
            "Setting up cuda-toolkit-12-5-config-common (12.5.39-1) ...\n",
            "Setting alternatives\n",
            "update-alternatives: using /usr/local/cuda-12.5 to provide /usr/local/cuda (cuda) in auto mode\n",
            "update-alternatives: using /usr/local/cuda-12.5 to provide /usr/local/cuda-12 (cuda-12) in auto mode\n",
            "Setting up cuda-cccl-12-5 (12.5.39-1) ...\n",
            "Setting up default-jre-headless (2:1.11-72build2) ...\n",
            "Setting up libxcb-xinput0:amd64 (1.14-3ubuntu3) ...\n",
            "Setting up libcufft-12-5 (11.2.3.18-1) ...\n",
            "Setting up libxtst6:amd64 (2:1.2.3-1build4) ...\n",
            "Setting up libcublas-12-5 (12.5.2.13-1) ...\n",
            "Setting up libxcb-keysyms1:amd64 (0.4.0-1build3) ...\n",
            "Setting up gds-tools-12-5 (1.10.0.4-1) ...\n",
            "Setting up libxxf86dga1:amd64 (2:1.1.5-0ubuntu3) ...\n",
            "Setting up libcusparse-12-5 (12.4.1.24-1) ...\n",
            "Setting up cuda-documentation-12-5 (12.5.39-1) ...\n",
            "Setting up libxcb-render-util0:amd64 (0.3.9-1build3) ...\n",
            "Setting up openjdk-11-jre:amd64 (11.0.22+7-0ubuntu2~22.04.1) ...\n",
            "Setting up cuda-nvdisasm-12-5 (12.5.39-1) ...\n",
            "Setting up libxcb-icccm4:amd64 (0.4.1-1.1build2) ...\n",
            "Setting up default-jre (2:1.11-72build2) ...\n",
            "Setting up cuda-nvvp-12-5 (12.5.39-1) ...\n",
            "Setting up libnvfatbin-12-5 (12.5.39-1) ...\n",
            "Setting up cuda-nvvm-12-5 (12.5.40-1) ...\n",
            "Setting up libnvjpeg-12-5 (12.3.2.38-1) ...\n",
            "Setting up libxcb-util1:amd64 (0.4.0-1build2) ...\n",
            "Setting up cuda-profiler-api-12-5 (12.5.39-1) ...\n",
            "Setting up libxcb-xkb1:amd64 (1.14-3ubuntu3) ...\n",
            "Setting up libxcb-image0:amd64 (0.4.0-2) ...\n",
            "Setting up libcufile-12-5 (1.10.0.4-1) ...\n",
            "Setting alternatives\n",
            "update-alternatives: using /usr/local/cuda-12.5/gds/cufile.json to provide /etc/cufile.json (cufile.json) in auto mode\n",
            "Setting up libfontenc1:amd64 (1:1.1.4-1build3) ...\n",
            "Setting up cuda-opencl-12-5 (12.5.39-1) ...\n",
            "Setting up libxcb-xinerama0:amd64 (1.14-3ubuntu3) ...\n",
            "Setting up cuda-cuxxfilt-12-5 (12.5.39-1) ...\n",
            "Setting up libcusparse-dev-12-5 (12.4.1.24-1) ...\n",
            "Setting up cuda-nvprune-12-5 (12.5.39-1) ...\n",
            "Setting up libxcb-cursor0:amd64 (0.1.1-4ubuntu1) ...\n",
            "Setting up libcublas-dev-12-5 (12.5.2.13-1) ...\n",
            "Setting up cuda-cudart-12-5 (12.5.39-1) ...\n",
            "Setting up libxkbcommon-x11-0:amd64 (1.4.0-1) ...\n",
            "Setting up cuda-nvtx-12-5 (12.5.39-1) ...\n",
            "Setting up cuda-nsight-12-5 (12.5.39-1) ...\n",
            "Setting up fonts-dejavu-core (2.37-2build1) ...\n",
            "Setting up cuda-nvprof-12-5 (12.5.39-1) ...\n",
            "Setting up fonts-dejavu-extra (2.37-2build1) ...\n",
            "Setting up cuda-driver-dev-12-5 (12.5.39-1) ...\n",
            "Setting up cuda-cuobjdump-12-5 (12.5.39-1) ...\n",
            "Setting up libxkbfile1:amd64 (1:1.1.0-1build3) ...\n",
            "Setting up cuda-nvrtc-12-5 (12.5.40-1) ...\n",
            "Setting up cuda-sanitizer-12-5 (12.5.39-1) ...\n",
            "Setting up nsight-compute-2024.2.0 (2024.2.0.16-1) ...\n",
            "Setting up libcusolver-12-5 (11.6.2.40-1) ...\n",
            "Setting up libcufft-dev-12-5 (11.2.3.18-1) ...\n",
            "Setting up cuda-cupti-12-5 (12.5.39-1) ...\n",
            "Setting up libnpp-12-5 (12.3.0.116-1) ...\n",
            "Setting up nsight-systems-2024.2.3 (2024.2.3.38-242334140272v0) ...\n",
            "update-alternatives: using /opt/nvidia/nsight-systems/2024.2.3/target-linux-x64/nsys to provide /usr/local/bin/nsys (nsys) in auto mode\n",
            "update-alternatives: using /opt/nvidia/nsight-systems/2024.2.3/host-linux-x64/nsys-ui to provide /usr/local/bin/nsys-ui (nsys-ui) in auto mode\n",
            "Setting up cuda-opencl-dev-12-5 (12.5.39-1) ...\n",
            "Setting up libnvjitlink-12-5 (12.5.40-1) ...\n",
            "Setting up cuda-nsight-systems-12-5 (12.5.0-1) ...\n",
            "Setting up libnvfatbin-dev-12-5 (12.5.39-1) ...\n",
            "Setting up libcurand-12-5 (10.3.6.39-1) ...\n",
            "Setting up libcusolver-dev-12-5 (11.6.2.40-1) ...\n",
            "Setting up cuda-cupti-dev-12-5 (12.5.39-1) ...\n",
            "Setting up cuda-cudart-dev-12-5 (12.5.39-1) ...\n",
            "Setting up cuda-crt-12-5 (12.5.40-1) ...\n",
            "Setting up libnvjpeg-dev-12-5 (12.3.2.38-1) ...\n",
            "Setting up libnvjitlink-dev-12-5 (12.5.40-1) ...\n",
            "Setting up libcufile-dev-12-5 (1.10.0.4-1) ...\n",
            "Setting up cuda-nsight-compute-12-5 (12.5.0-1) ...\n",
            "Setting up libnpp-dev-12-5 (12.3.0.116-1) ...\n",
            "Setting up libcurand-dev-12-5 (10.3.6.39-1) ...\n",
            "Setting up cuda-nvrtc-dev-12-5 (12.5.40-1) ...\n",
            "Setting up cuda-gdb-12-5 (12.5.39-1) ...\n",
            "Setting up cuda-nvcc-12-5 (12.5.40-1) ...\n",
            "Setting up x11-utils (7.7+5build2) ...\n",
            "Setting up cuda-libraries-12-5 (12.5.0-1) ...\n",
            "Setting up libatk-wrapper-java (0.38.0-5build1) ...\n",
            "Setting up cuda-command-line-tools-12-5 (12.5.0-1) ...\n",
            "Setting up cuda-libraries-dev-12-5 (12.5.0-1) ...\n",
            "Setting up libatk-wrapper-java-jni:amd64 (0.38.0-5build1) ...\n",
            "Setting up cuda-compiler-12-5 (12.5.0-1) ...\n",
            "Setting up cuda-visual-tools-12-5 (12.5.0-1) ...\n",
            "Setting up cuda-tools-12-5 (12.5.0-1) ...\n",
            "Setting up cuda-toolkit-12-5 (12.5.0-1) ...\n",
            "Processing triggers for hicolor-icon-theme (0.17-2) ...\n",
            "Processing triggers for libc-bin (2.35-0ubuntu3.4) ...\n",
            "/sbin/ldconfig.real: /usr/local/lib/libtbb.so.12 is not a symbolic link\n",
            "\n",
            "/sbin/ldconfig.real: /usr/local/lib/libtbbbind_2_0.so.3 is not a symbolic link\n",
            "\n",
            "/sbin/ldconfig.real: /usr/local/lib/libtbbmalloc_proxy.so.2 is not a symbolic link\n",
            "\n",
            "/sbin/ldconfig.real: /usr/local/lib/libtbbbind.so.3 is not a symbolic link\n",
            "\n",
            "/sbin/ldconfig.real: /usr/local/lib/libtbbmalloc.so.2 is not a symbolic link\n",
            "\n",
            "/sbin/ldconfig.real: /usr/local/lib/libtbbbind_2_5.so.3 is not a symbolic link\n",
            "\n",
            "Processing triggers for man-db (2.10.2-1) ...\n",
            "Processing triggers for fontconfig (2.13.1-4.2ubuntu5) ...\n"
          ]
        }
      ],
      "source": [
        "!wget https://developer.download.nvidia.com/compute/cuda/repos/ubuntu2204/x86_64/cuda-ubuntu2204.pin\n",
        "!sudo mv cuda-ubuntu2204.pin /etc/apt/preferences.d/cuda-repository-pin-600\n",
        "!wget https://developer.download.nvidia.com/compute/cuda/12.5.0/local_installers/cuda-repo-ubuntu2204-12-5-local_12.5.0-555.42.02-1_amd64.deb\n",
        "!sudo dpkg -i cuda-repo-ubuntu2204-12-5-local_12.5.0-555.42.02-1_amd64.deb\n",
        "!sudo cp /var/cuda-repo-ubuntu2204-12-5-local/cuda-*-keyring.gpg /usr/share/keyrings/\n",
        "!sudo apt-get update\n",
        "!sudo apt-get -y install cuda-toolkit-12-5"
      ]
    },
    {
      "cell_type": "code",
      "execution_count": null,
      "metadata": {
        "colab": {
          "base_uri": "https://localhost:8080/"
        },
        "id": "uILEWVo8uz41",
        "outputId": "fad7ea20-dac2-4bd4-d559-071631ecd170"
      },
      "outputs": [
        {
          "name": "stdout",
          "output_type": "stream",
          "text": [
            "nvcc: NVIDIA (R) Cuda compiler driver\n",
            "Copyright (c) 2005-2023 NVIDIA Corporation\n",
            "Built on Tue_Aug_15_22:02:13_PDT_2023\n",
            "Cuda compilation tools, release 12.2, V12.2.140\n",
            "Build cuda_12.2.r12.2/compiler.33191640_0\n"
          ]
        }
      ],
      "source": [
        "#After refresh the cuda framework, check version info\n",
        "\n",
        "!nvcc --version"
      ]
    },
    {
      "cell_type": "markdown",
      "metadata": {
        "id": "Tkmrdk_tmuug"
      },
      "source": [
        "# Setup Google Colab for cuda c++, rerun this for new session."
      ]
    },
    {
      "cell_type": "markdown",
      "metadata": {
        "id": "prUP20qzm2S0"
      },
      "source": [
        "set your runtime to cuda by click \"runtime\" -> \"change runtime type\" in above toolbar, and select T4 GPU.\n",
        "\n",
        "First, you have to install nvcc plugin for cuda compiler"
      ]
    },
    {
      "cell_type": "code",
      "execution_count": 2,
      "metadata": {
        "colab": {
          "base_uri": "https://localhost:8080/"
        },
        "id": "AruXtVyMnEH1",
        "outputId": "16d687bf-1c54-4909-dba6-890ec6cd47d4"
      },
      "outputs": [
        {
          "output_type": "stream",
          "name": "stdout",
          "text": [
            "Collecting nvcc4jupyter\n",
            "  Downloading nvcc4jupyter-1.2.1-py3-none-any.whl (10 kB)\n",
            "Installing collected packages: nvcc4jupyter\n",
            "Successfully installed nvcc4jupyter-1.2.1\n"
          ]
        }
      ],
      "source": [
        "!pip install nvcc4jupyter"
      ]
    },
    {
      "cell_type": "markdown",
      "metadata": {
        "id": "aRhcZ8t-n-zI"
      },
      "source": [
        "then, Load the plugin\n",
        "\n"
      ]
    },
    {
      "cell_type": "code",
      "execution_count": 3,
      "metadata": {
        "colab": {
          "base_uri": "https://localhost:8080/"
        },
        "id": "K2rmueJ_oBV1",
        "outputId": "4b737bb8-f0da-46f3-e760-5d36f5e15e66"
      },
      "outputs": [
        {
          "output_type": "stream",
          "name": "stdout",
          "text": [
            "Detected platform \"Colab\". Running its setup...\n",
            "Source files will be saved in \"/tmp/tmpfhvxfg1x\".\n"
          ]
        }
      ],
      "source": [
        "%load_ext nvcc4jupyter"
      ]
    },
    {
      "cell_type": "code",
      "execution_count": 4,
      "metadata": {
        "colab": {
          "base_uri": "https://localhost:8080/"
        },
        "id": "69a-ObGBnIxJ",
        "outputId": "af9d80ec-a407-4e3e-973a-31a9a3bac46f"
      },
      "outputs": [
        {
          "output_type": "stream",
          "name": "stdout",
          "text": [
            "/bin/bash: line 1: nvidia-smi: command not found\n"
          ]
        }
      ],
      "source": [
        "# check nvidia card info\n",
        "!nvidia-smi"
      ]
    },
    {
      "cell_type": "markdown",
      "metadata": {
        "id": "4h5KCnsbnR1I"
      },
      "source": [
        "# Demo Code - Simple Loop"
      ]
    },
    {
      "cell_type": "code",
      "source": [
        "%%writefile SimpleLogger.h\n",
        "\n",
        "#include <iostream>\n",
        "#include <string>\n",
        "#include <ctime>\n",
        "#include <iomanip> // For std::put_time\n",
        "#include <sstream> // For std::ostringstream\n",
        "\n",
        "enum LogLevel {\n",
        "    DEBUG,\n",
        "    INFO,\n",
        "    WARN,\n",
        "    ERROR,\n",
        "    FATAL\n",
        "};\n",
        "\n",
        "class SimpleLogger {\n",
        "private:\n",
        "    LogLevel currentLevel;\n",
        "    std::string logFormat; // Stores the format for log messages\n",
        "\n",
        "    // Helper function to convert LogLevel to string\n",
        "    std::string LogLevelToString(LogLevel level) {\n",
        "        switch (level) {\n",
        "            case DEBUG: return \"DEBUG\";\n",
        "            case INFO: return \"INFO\";\n",
        "            case WARN: return \"WARN\";\n",
        "            case ERROR: return \"ERROR\";\n",
        "            case FATAL: return \"FATAL\";\n",
        "            default: return \"UNKNOWN\";\n",
        "        }\n",
        "    }\n",
        "\n",
        "public:\n",
        "    // Constructor that accepts an initial log level and an optional log format\n",
        "    SimpleLogger(LogLevel level, const std::string& format = \"[%Y-%m-%d %H:%M:%S] [%L] %M\")\n",
        "        : currentLevel(level), logFormat(format) {}\n",
        "\n",
        "    void SetLogLevel(LogLevel level) {\n",
        "        currentLevel = level;\n",
        "    }\n",
        "\n",
        "    // Function to set the log format\n",
        "    void SetLogFormat(const std::string& format) {\n",
        "        logFormat = format;\n",
        "    }\n",
        "\n",
        "    // Function to log messages with the given log level\n",
        "    void Log(LogLevel level, const std::string& message) {\n",
        "        if (level < currentLevel) return; // Skip messages below the current log level\n",
        "\n",
        "       // Get the current time\n",
        "        std::time_t now = std::time(nullptr);\n",
        "        std::tm timeInfo;\n",
        "        localtime_r(&now, &timeInfo); // Thread-safe version of localtime\n",
        "\n",
        "        // Replace format specifiers with actual values\n",
        "        std::string formattedMessage = logFormat;\n",
        "        size_t pos = 0;\n",
        "        if ((pos = formattedMessage.find(\"%Y\")) != std::string::npos) {\n",
        "            formattedMessage.replace(pos, 3, std::to_string(timeInfo.tm_year + 1900));\n",
        "        }\n",
        "        if ((pos = formattedMessage.find(\"%m\")) != std::string::npos) {\n",
        "            formattedMessage.replace(pos, 2, std::to_string(timeInfo.tm_mon + 1));\n",
        "        }\n",
        "        if ((pos = formattedMessage.find(\"%d\")) != std::string::npos) {\n",
        "            formattedMessage.replace(pos, 2, std::to_string(timeInfo.tm_mday));\n",
        "        }\n",
        "        if ((pos = formattedMessage.find(\"%H\")) != std::string::npos) {\n",
        "            formattedMessage.replace(pos, 2, std::to_string(timeInfo.tm_hour));\n",
        "        }\n",
        "        if ((pos = formattedMessage.find(\"%M\")) != std::string::npos) {\n",
        "            formattedMessage.replace(pos, 2, std::to_string(timeInfo.tm_min));\n",
        "        }\n",
        "        if ((pos = formattedMessage.find(\"%S\")) != std::string::npos) {\n",
        "            formattedMessage.replace(pos, 2, std::to_string(timeInfo.tm_sec));\n",
        "        }\n",
        "        if ((pos = formattedMessage.find(\"%L\")) != std::string::npos) {\n",
        "            formattedMessage.replace(pos, 2, LogLevelToString(level));\n",
        "        }\n",
        "        if ((pos = formattedMessage.find(\"%M\")) != std::string::npos) {\n",
        "            size_t end = pos + 2;\n",
        "            formattedMessage.replace(pos, end - pos, message);\n",
        "        }\n",
        "\n",
        "        // Output the formatted log message to the console\n",
        "        std::cout << formattedMessage << std::endl;\n",
        "    }\n",
        "};\n"
      ],
      "metadata": {
        "colab": {
          "base_uri": "https://localhost:8080/"
        },
        "id": "-n_ngD4Pfeja",
        "outputId": "430fc774-78ab-438f-c156-ede07f4595aa"
      },
      "execution_count": 66,
      "outputs": [
        {
          "output_type": "stream",
          "name": "stdout",
          "text": [
            "Overwriting SimpleLogger.h\n"
          ]
        }
      ]
    },
    {
      "cell_type": "markdown",
      "metadata": {
        "id": "jG3x_MGkxy0i"
      },
      "source": [
        "Simple 1 layer loop demo\n",
        "\n",
        "// %%cuda_group_save -n demo.cu -g share"
      ]
    },
    {
      "cell_type": "code",
      "execution_count": 67,
      "metadata": {
        "id": "Kzce0fYeKb2i",
        "colab": {
          "base_uri": "https://localhost:8080/"
        },
        "outputId": "abf8a152-1248-4202-9875-6451aac9dcd7"
      },
      "outputs": [
        {
          "output_type": "stream",
          "name": "stdout",
          "text": [
            "Overwriting demo.cpp\n"
          ]
        }
      ],
      "source": [
        "%%writefile demo.cpp\n",
        "\n",
        "#define _CRT_SECURE_NO_WARNINGS\n",
        "#include <cstdlib>\n",
        "#include <iostream>\n",
        "#include <stdexcept>\n",
        "#include <cuda_runtime.h>\n",
        "#include <cuda_runtime_api.h>\n",
        "#include <device_launch_parameters.h>\n",
        "#include \"SimpleLogger.h\"\n",
        "\n",
        "#define Debug false\n",
        "#define K 8\n",
        "\n",
        "using namespace std;\n",
        "\n",
        "class demo {\n",
        "public:\n",
        "\n",
        "\tvoid genRandomNumber(int* a, int n) {\n",
        "\t\tfor (int i = 0; i < n; i++) {\n",
        "\t\t\ta[i] = rand() % n;\n",
        "\t\t\tif (Debug) cout << a[i] << \"\\t\";\n",
        "\t\t}\n",
        "\t\tif (Debug) cout << \"\\n\"; else cout << a[1] << \"\\n\";\n",
        "\t}\n",
        "\n",
        "\n",
        "\tvoid cpucal(int* a, int* b, long long& c, int n)\n",
        "\t{\n",
        "\t\tlong long  sum = 0;\n",
        "\t\t// calculate the dot product of two array\n",
        "\t\tfor (int i = 0; i < n; i++)\n",
        "\t\t{\n",
        "\t\t\tsum += (a[i] * b[i]);\n",
        "\t\t}\n",
        "\t\tc = sum;\n",
        "\t}\n",
        "\n",
        "\n",
        "\n",
        "\tbool checkGPU()\n",
        "\t{\n",
        "\t\tconst char* gpu_env = std::getenv(\"COLAB_GPU\");\n",
        "\t\tif (gpu_env && atoi(gpu_env) > 0)\n",
        "\t\t{\n",
        "\t\t\tcout << \"A GPU is connected.\" << endl;\n",
        "\t\t\treturn true;\n",
        "\t\t}\n",
        "\t\telse\n",
        "\t\t{\n",
        "\t\t\tcout << \"No accelerator is connected.\" << endl;\n",
        "\t\t\treturn false;\n",
        "\t\t}\n",
        "\t}\n",
        "\n",
        "\tint run(void) {\n",
        "\n",
        "\t\tcheckGPU();\n",
        "\n",
        "\t\tunsigned int N = 1 << K;\n",
        "\t\tcout << \"n:\\t\" << N << \"\\n\\n\";\n",
        "\n",
        "\t\tint* a, * b;\n",
        "\t\tlong long cpu_output;\n",
        "\n",
        "\t\ta = (int*)malloc(N*sizeof (int));\n",
        "\t\tb = (int*)malloc(N*sizeof (int));\n",
        "\n",
        "\t\tcout << \"a:\\t\";\n",
        "\t\tgenRandomNumber(a, N);\n",
        "\t\tcout << \"b:\\t\";\n",
        "\t\tgenRandomNumber(b, N);\n",
        "\n",
        "\t\tcout << \"\\n\\n@CPU, summing value... \\n\";\n",
        "\n",
        "\t\tclock_t t;\n",
        "\n",
        "\t\t// calling cpu\n",
        "\t\tt = clock();//start time\n",
        "\t\tcpucal(a, b, cpu_output, N);\n",
        "\t\tt = clock() - t;//total time = end time - start time\n",
        "\t\tcout << \"result: \" << cpu_output << \"\\n\";\n",
        "\t\tprintf(\"CPU Avg time = %lf ms.\\n\", ((((float)t) / CLOCKS_PER_SEC) * 1000));\n",
        "\n",
        "\t\tcudaFree(a);\n",
        "\t\tcudaFree(b);\n",
        "\n",
        "\t\treturn 0;\n",
        "\t}\n",
        "};\n",
        "\n",
        "\n",
        "int main()\n",
        "{\n",
        "  SimpleLogger logger(DEBUG, \"[%Y-%m-%d %H:%M:%S] [%L] %M\"); // Set the log level to INFO\n",
        "  logger.Log(INFO, \"Application started. This is info level log\");\n",
        "  logger.Log(DEBUG, \"This is a debug message.\"); // This will not be shown because it's below the INFO level\n",
        "\n",
        "\tdemo demoapp;\n",
        "\tdemoapp.run();\n",
        "}"
      ]
    },
    {
      "cell_type": "code",
      "execution_count": 68,
      "metadata": {
        "colab": {
          "base_uri": "https://localhost:8080/"
        },
        "id": "_D-M3lvLK4hD",
        "outputId": "5b6ac70e-b975-4b99-aef1-d2bfd1251ca4"
      },
      "outputs": [
        {
          "output_type": "stream",
          "name": "stdout",
          "text": [
            "[20245-28 4:49:49] [INFO] Application started. This is info level log\n",
            "[20245-28 4:49:49] [DEBUG] This is a debug message.\n",
            "No accelerator is connected.\n",
            "n:\t256\n",
            "\n",
            "a:\t198\n",
            "b:\t112\n",
            "\n",
            "\n",
            "@CPU, summing value... \n",
            "result: 4214798\n",
            "CPU Avg time = 0.003000 ms.\n"
          ]
        },
        {
          "output_type": "execute_result",
          "data": {
            "text/plain": []
          },
          "metadata": {},
          "execution_count": 68
        }
      ],
      "source": [
        "%%shell\n",
        "nvcc -o demo demo.cpp\n",
        "./demo"
      ]
    },
    {
      "cell_type": "markdown",
      "metadata": {
        "id": "l3RfhhKTltBT"
      },
      "source": [
        "# Demo Code - Complex nested loop"
      ]
    },
    {
      "cell_type": "markdown",
      "metadata": {
        "id": "ssjCk0I8x2aO"
      },
      "source": [
        "Complex N layer loop demo"
      ]
    },
    {
      "cell_type": "code",
      "execution_count": null,
      "metadata": {
        "id": "0UeqHAppx59o"
      },
      "outputs": [],
      "source": [
        "%%cuda_group_save -n demo.cu -g share\n",
        "\n",
        "#include <cstdio>\n",
        "#include <cstdlib>\n",
        "#include <iostream>\n",
        "#include <stdexcept>\n",
        "#include <cuda_runtime.h>\n",
        "#include <cuda_runtime_api.h>\n",
        "#include <device_launch_parameters.h>\n",
        "\n",
        "#define Debug false\n",
        "#define K  16  // where K should be less than 30, otherwise memory overflow\n",
        "\n",
        "using namespace std;\n",
        "\n",
        "void checkCudaError(cudaError_t error) {\n",
        "\tif (error != cudaSuccess) {\n",
        "\t\tstd::cerr << \"CUDA Error: \" << cudaGetErrorString(error) << std::endl;\n",
        "\t}\n",
        "}\n",
        "\n",
        "void checkCudaError(cudaError_t error, string stmt) {\n",
        "\tif (error != cudaSuccess) {\n",
        "\t\tstd::cerr << \"CUDA Error: \" << stmt << std::endl;\n",
        "\t\tcheckCudaError(error);\n",
        "\t}\n",
        "}\n",
        "\n",
        "void rand(int* x, int n)\n",
        "{\n",
        "\tcout << \"creating array of random int for size of : \" << n << \"\\n\";\n",
        "\t// Initialize the random number generator with the current time\n",
        "\tsrand(static_cast<unsigned int>(time(0)));\n",
        "\tint lb = -128, ub = 127;\n",
        "\tfor (int i = 0; i < n; i++)\n",
        "\t{\n",
        "\t\tx[i] = (rand() % (ub - lb + 1)) + lb;\n",
        "\t\tif (Debug)\n",
        "\t\t\tcout << x[i] << \"\\t\";\n",
        "\t}\n",
        "\tif (Debug)\n",
        "\t\tcout << \"\\n\";\n",
        "}\n",
        "\n",
        "void cpucal(int* a, int* b, long long& c, int n)\n",
        "{\n",
        "\tlong long  sum = 0;\n",
        "\t// calculate the dot product of two array\n",
        "\tfor (int i = 0; i < n; i++)\n",
        "\t{\n",
        "\t\tsum += (a[i] * b[i]);\n",
        "\t}\n",
        "\tc = sum;\n",
        "}\n",
        "\n",
        "__global__ void gpucal_partial_kernel(int* a, int* b, long long* c, int n)\n",
        "{\n",
        "\tint threadId = threadIdx.x + blockDim.x * blockIdx.x;\n",
        "\tif (threadId < n ) {\n",
        "\t\t\tc[threadId] += (a[threadId] * b[threadId]);\n",
        "\t}\n",
        "}\n",
        "\n",
        "void gpucal(int* a, int* b, long long* c, int n) {\n",
        "\tint* d_a, * d_b;\n",
        "\tlong long* d_c;\n",
        "\n",
        "\t// Attempt to allocate memory on the host\n",
        "\tcheckCudaError(cudaMalloc(&d_a, n * sizeof(int)), \"cudaMalloc(&d_a, N * sizeof(int))\");\n",
        "\tcudaMemcpy(d_a, a, n * sizeof(int), cudaMemcpyHostToDevice);\n",
        "\tcheckCudaError(cudaFreeHost(a), \"cudaFreeHost(a)\");\n",
        "\n",
        "\tcheckCudaError(cudaMalloc(&d_b, n * sizeof(int)), \"cudaMalloc(&d_b, N * sizeof(int))\");\n",
        "\tcudaMemcpy(d_b, b, n * sizeof(int), cudaMemcpyHostToDevice);\n",
        "\tcheckCudaError(cudaFreeHost(b), \"cudaFreeHost(b)\");\n",
        "\n",
        "\tcheckCudaError(cudaMalloc(&d_c, n * sizeof(long long)), \"cudaMalloc(&d_c, n * sizeof(int))\");\n",
        "\tcudaMemset(d_c, 0, n * sizeof(long long));\n",
        "\n",
        "\n",
        "\t// define kernel call\n",
        "\tint grids = max(1, (n + 255) / 256);\n",
        "\tint blocks = max(1, min(n, 256));\n",
        "\n",
        "\tcout << \"start to run gpucal_partial_kernel with <<<grids, blocks>>>:  \" << grids << \",\" << blocks << endl;\n",
        "\tgpucal_partial_kernel << <grids, blocks >> > (d_a, d_b, d_c, n);\n",
        "\n",
        "\t// Sync Device to Host\n",
        "\tcout << \"start to run cudaDeviceSynchronize ... \" << endl;\n",
        "\tcudaDeviceSynchronize();\n",
        "\n",
        "\tcudaMemcpy(c, d_c, n * sizeof(long long), cudaMemcpyDeviceToHost);\n",
        "\tcheckCudaError(cudaFree(d_c), \"cudaFree(d_c)\");\n",
        "\n",
        "\t// Sum up the partial sums on the host to get the final result\n",
        "\tcout << \"Sum up the partial sums  ....\" << endl;\n",
        "\tlong long sum = 0;\n",
        "\tfor (int i = 0; i < n; ++i) {\n",
        "\t\tcout << c[i] << \"\\t\";\n",
        "\t\tsum += c[i];\n",
        "\t}\n",
        "\n",
        "\tcout << \"Sum value: \" << sum << endl;\n",
        "\n",
        "\t// Write the final sum to c[0]\n",
        "\tc[0] = sum;\n",
        "\tcout << \"gpucal return value: \" << c[0] << endl;\n",
        "}\n",
        "\n",
        "bool checkGPU()\n",
        "{\n",
        "\tconst char* gpu_env = getenv(\"COLAB_GPU\");\n",
        "\tif (gpu_env && atoi(gpu_env) > 0)\n",
        "\t{\n",
        "\t\tcout << \"A GPU is connected.\" << endl;\n",
        "\t\treturn true;\n",
        "\t}\n",
        "\telse\n",
        "\t{\n",
        "\t\tcout << \"No accelerator is connected.\" << endl;\n",
        "\t\treturn false;\n",
        "\t}\n",
        "}\n",
        "\n",
        "\n",
        "int main(void)\n",
        "{\n",
        "\n",
        "\tbool GPU = checkGPU();\n",
        "\n",
        "\tunsigned int N = 1 << K;\n",
        "\tcout << \"n:\\t\" << N << \"\\n\\n\";\n",
        "\n",
        "\tint* a, * b;\n",
        "\tlong long c;\n",
        "\n",
        "\tif (!GPU)\n",
        "\t{\n",
        "\t\tcout << \"allocating cpu memory ... \\n\";\n",
        "\t\ta = (int*)malloc(N * sizeof(int));\n",
        "\t\tb = (int*)malloc(N * sizeof(int));\n",
        "\t}\n",
        "\telse\n",
        "\t{\n",
        "\t\tcout << \"allocating gpu memory ... \\n\";\n",
        "\t\t// Attempt to allocate memory on the host\n",
        "\t\tcheckCudaError(cudaMallocHost(&a, N * sizeof(int)));\n",
        "\t\tcheckCudaError(cudaMallocHost(&b, N * sizeof(int)));\n",
        "\t}\n",
        "\n",
        "\tif (Debug) cout << \"a array list:\\t\";\n",
        "\trand(a, N);\n",
        "\tif (Debug) cout << \"b array list:\\t\";\n",
        "\trand(b, N);\n",
        "\n",
        "\tcout << \"\\n\\n@CPU, finding dot product for value of size(n) * size(n) ... \\n\";\n",
        "\n",
        "\tclock_t t;\n",
        "\n",
        "\t// calling cpu\n",
        "\tt = clock(); // start time\n",
        "\tcpucal(a, b, c, N);\n",
        "\tt = clock() - t; // total time = end time - start time\n",
        "\n",
        "\tcout << \"result: \" << c << \"\\n\";\n",
        "\n",
        "\tprintf(\"@CPU Avg time = %lf ms.\\n\", ((((float)t) / CLOCKS_PER_SEC) * 1000));\n",
        "\tif (GPU) {\n",
        "\t\tcout << \"\\n\\n@GPU, finding dot product for value of size(n) * size(n) ... \\n\";\n",
        "\n",
        "\n",
        "\t\t// reset value c[0]\n",
        "\t\tlong long* d;\n",
        "\t\tcheckCudaError(cudaMallocHost(&d, N * sizeof(long long)));\n",
        "\t\tmemset(d, 0, N * sizeof(long long));\n",
        "\n",
        "\n",
        "\t\t// calling cpu\n",
        "\t\tt = clock(); // start time\n",
        "\t\tgpucal(a, b, d, N);\n",
        "\t\tt = clock() - t; // total time = end time - start time\n",
        "\n",
        "\t\tcout << \"result: \" << d[0] << \"\\n\";\n",
        "\t\tprintf(\"@GPU Avg time = %lf ms.\\n\", ((((float)t) / CLOCKS_PER_SEC) * 1000));\n",
        "\t\tcudaFreeHost(d);\n",
        "\n",
        "\t}\n",
        "\n",
        "\tif (!GPU)\n",
        "\t{\n",
        "\t\tfree(a);\n",
        "\t\tfree(b);\n",
        "\t}\n",
        "\telse\n",
        "\t{\n",
        "\t\tcudaFreeHost(a);\n",
        "\t\tcudaFreeHost(b);\n",
        "\t}\n",
        "\n",
        "\treturn 0;\n",
        "}\n"
      ]
    },
    {
      "cell_type": "code",
      "execution_count": null,
      "metadata": {
        "id": "zx0KJFexx80D"
      },
      "outputs": [],
      "source": [
        "%cuda_group_run -g \"share\""
      ]
    }
  ],
  "metadata": {
    "colab": {
      "provenance": [],
      "toc_visible": true,
      "include_colab_link": true
    },
    "kernelspec": {
      "display_name": "Python 3",
      "name": "python3"
    },
    "language_info": {
      "name": "python"
    }
  },
  "nbformat": 4,
  "nbformat_minor": 0
}